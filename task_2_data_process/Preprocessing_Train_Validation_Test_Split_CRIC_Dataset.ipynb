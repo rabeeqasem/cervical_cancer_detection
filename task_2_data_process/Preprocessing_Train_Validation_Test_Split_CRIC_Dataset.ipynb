{
  "nbformat": 4,
  "nbformat_minor": 0,
  "metadata": {
    "colab": {
      "provenance": [],
      "collapsed_sections": []
    },
    "kernelspec": {
      "name": "python3",
      "display_name": "Python 3"
    },
    "language_info": {
      "name": "python"
    }
  },
  "cells": [
    {
      "cell_type": "markdown",
      "source": [
        "# Preprocessing\n",
        "## Train, Validation and Test Split using CRIC Structured Dataset\n",
        "\n",
        "## About:\n",
        "\n",
        "Author: Fahad\n",
        "\n",
        "Email: sfahadahmed@gmail.com\n",
        "\n",
        "This notebook contains code for splitting physical folder structure to a Train-Validation-Test structure which can be used for model training, validation and testing.\n",
        "\n",
        "The code has been tested using the CRIC structured dataset.\n",
        "\n",
        "\n",
        "\n",
        "\n",
        "\n"
      ],
      "metadata": {
        "id": "X_Cj_0GaYBCk"
      }
    },
    {
      "cell_type": "markdown",
      "source": [
        "## Google Drive"
      ],
      "metadata": {
        "id": "r-PV4GnSnWRb"
      }
    },
    {
      "cell_type": "code",
      "source": [
        "from google.colab import drive\n",
        "drive.mount('/content/drive')"
      ],
      "metadata": {
        "colab": {
          "base_uri": "https://localhost:8080/"
        },
        "id": "oz7u_AJUS-pn",
        "outputId": "1adf63fa-4d40-4de3-a820-817ba94d317c"
      },
      "execution_count": 1,
      "outputs": [
        {
          "output_type": "stream",
          "name": "stdout",
          "text": [
            "Mounted at /content/drive\n"
          ]
        }
      ]
    },
    {
      "cell_type": "code",
      "source": [
        "!unzip CRIC_Dataset_Strutured.zip"
      ],
      "metadata": {
        "colab": {
          "base_uri": "https://localhost:8080/"
        },
        "id": "htQNUG7sTPOG",
        "outputId": "3e7593dd-4707-48bb-c3f8-9262c6b44326"
      },
      "execution_count": 4,
      "outputs": [
        {
          "output_type": "stream",
          "name": "stdout",
          "text": [
            "Archive:  CRIC_Dataset_Strutured.zip\n",
            "   creating: dataset/\n",
            "   creating: dataset/ASC-H/\n",
            "  inflating: dataset/ASC-H/ASC-H_48.png  \n",
            "  inflating: dataset/ASC-H/ASC-H_339.png  \n",
            "  inflating: dataset/ASC-H/ASC-H_386.png  \n",
            "  inflating: dataset/ASC-H/ASC-H_387.png  \n",
            "  inflating: dataset/ASC-H/ASC-H_52.png  \n",
            "  inflating: dataset/ASC-H/ASC-H_55.png  \n",
            "  inflating: dataset/ASC-H/ASC-H_81.png  \n",
            "  inflating: dataset/ASC-H/ASC-H_51.png  \n",
            "  inflating: dataset/ASC-H/ASC-H_56.png  \n",
            "  inflating: dataset/ASC-H/ASC-H_384.png  \n",
            "  inflating: dataset/ASC-H/ASC-H_388.png  \n",
            "  inflating: dataset/ASC-H/ASC-H_389.png  \n",
            "  inflating: dataset/ASC-H/ASC-H_49.png  \n",
            "  inflating: dataset/ASC-H/ASC-H_3.png  \n",
            "  inflating: dataset/ASC-H/ASC-H_82.png  \n",
            "  inflating: dataset/ASC-H/ASC-H_64.png  \n",
            "  inflating: dataset/ASC-H/ASC-H_47.png  \n",
            "  inflating: dataset/ASC-H/ASC-H_65.png  \n",
            "  inflating: dataset/ASC-H/ASC-H_58.png  \n",
            "  inflating: dataset/ASC-H/ASC-H_385.png  \n",
            "  inflating: dataset/ASC-H/ASC-H_53.png  \n",
            "  inflating: dataset/ASC-H/ASC-H_83.png  \n",
            "  inflating: dataset/ASC-H/ASC-H_59.png  \n",
            "  inflating: dataset/ASC-H/ASC-H_80.png  \n",
            "  inflating: dataset/ASC-H/ASC-H_54.png  \n",
            "  inflating: dataset/ASC-H/ASC-H_383.png  \n",
            "  inflating: dataset/ASC-H/ASC-H_46.png  \n",
            "  inflating: dataset/ASC-H/ASC-H_50.png  \n",
            "  inflating: dataset/ASC-H/ASC-H_340.png  \n",
            "  inflating: dataset/ASC-H/ASC-H_57.png  \n",
            "   creating: dataset/NILM/\n",
            "  inflating: dataset/NILM/NILM_135.png  \n",
            "  inflating: dataset/NILM/NILM_113.png  \n",
            "  inflating: dataset/NILM/NILM_104.png  \n",
            "  inflating: dataset/NILM/NILM_152.png  \n",
            "  inflating: dataset/NILM/NILM_140.png  \n",
            "  inflating: dataset/NILM/NILM_154.png  \n",
            "  inflating: dataset/NILM/NILM_126.png  \n",
            "  inflating: dataset/NILM/NILM_122.png  \n",
            "  inflating: dataset/NILM/NILM_106.png  \n",
            "  inflating: dataset/NILM/NILM_124.png  \n",
            "  inflating: dataset/NILM/NILM_143.png  \n",
            "  inflating: dataset/NILM/NILM_149.png  \n",
            "  inflating: dataset/NILM/NILM_134.png  \n",
            "  inflating: dataset/NILM/NILM_116.png  \n",
            "  inflating: dataset/NILM/NILM_114.png  \n",
            "  inflating: dataset/NILM/NILM_110.png  \n",
            "  inflating: dataset/NILM/NILM_132.png  \n",
            "  inflating: dataset/NILM/NILM_136.png  \n",
            "  inflating: dataset/NILM/NILM_107.png  \n",
            "  inflating: dataset/NILM/NILM_117.png  \n",
            "  inflating: dataset/NILM/NILM_133.png  \n",
            "  inflating: dataset/NILM/NILM_123.png  \n",
            "  inflating: dataset/NILM/NILM_27.png  \n",
            "  inflating: dataset/NILM/NILM_128.png  \n",
            "  inflating: dataset/NILM/NILM_153.png  \n",
            "  inflating: dataset/NILM/NILM_157.png  \n",
            "  inflating: dataset/NILM/NILM_115.png  \n",
            "  inflating: dataset/NILM/NILM_119.png  \n",
            "  inflating: dataset/NILM/NILM_118.png  \n",
            "  inflating: dataset/NILM/NILM_112.png  \n",
            "  inflating: dataset/NILM/NILM_105.png  \n",
            "  inflating: dataset/NILM/NILM_146.png  \n",
            "  inflating: dataset/NILM/NILM_142.png  \n",
            "  inflating: dataset/NILM/NILM_130.png  \n",
            "  inflating: dataset/NILM/NILM_151.png  \n",
            "  inflating: dataset/NILM/NILM_120.png  \n",
            "  inflating: dataset/NILM/NILM_127.png  \n",
            "  inflating: dataset/NILM/NILM_147.png  \n",
            "  inflating: dataset/NILM/NILM_109.png  \n",
            "  inflating: dataset/NILM/NILM_148.png  \n",
            "  inflating: dataset/NILM/NILM_139.png  \n",
            "  inflating: dataset/NILM/NILM_111.png  \n",
            "  inflating: dataset/NILM/NILM_28.png  \n",
            "  inflating: dataset/NILM/NILM_145.png  \n",
            "  inflating: dataset/NILM/NILM_155.png  \n",
            "  inflating: dataset/NILM/NILM_131.png  \n",
            "  inflating: dataset/NILM/NILM_108.png  \n",
            "  inflating: dataset/NILM/NILM_156.png  \n",
            "  inflating: dataset/NILM/NILM_125.png  \n",
            "  inflating: dataset/NILM/NILM_22.png  \n",
            "  inflating: dataset/NILM/NILM_137.png  \n",
            "  inflating: dataset/NILM/NILM_141.png  \n",
            "  inflating: dataset/NILM/NILM_30.png  \n",
            "  inflating: dataset/NILM/NILM_102.png  \n",
            "  inflating: dataset/NILM/NILM_129.png  \n",
            "  inflating: dataset/NILM/NILM_144.png  \n",
            "  inflating: dataset/NILM/NILM_150.png  \n",
            "  inflating: dataset/NILM/NILM_103.png  \n",
            "  inflating: dataset/NILM/NILM_121.png  \n",
            "   creating: dataset/SCC/\n",
            "  inflating: dataset/SCC/SCC_96.png  \n",
            "  inflating: dataset/SCC/SCC_89.png  \n",
            "  inflating: dataset/SCC/SCC_98.png  \n",
            "  inflating: dataset/SCC/SCC_99.png  \n",
            "  inflating: dataset/SCC/SCC_91.png  \n",
            "  inflating: dataset/SCC/SCC_84.png  \n",
            "  inflating: dataset/SCC/SCC_400.png  \n",
            "  inflating: dataset/SCC/SCC_92.png  \n",
            "  inflating: dataset/SCC/SCC_88.png  \n",
            "  inflating: dataset/SCC/SCC_95.png  \n",
            "  inflating: dataset/SCC/SCC_399.png  \n",
            "  inflating: dataset/SCC/SCC_86.png  \n",
            "  inflating: dataset/SCC/SCC_93.png  \n",
            "  inflating: dataset/SCC/SCC_87.png  \n",
            "  inflating: dataset/SCC/SCC_85.png  \n",
            "  inflating: dataset/SCC/SCC_101.png  \n",
            "  inflating: dataset/SCC/SCC_100.png  \n",
            "  inflating: dataset/SCC/SCC_90.png  \n",
            "  inflating: dataset/SCC/SCC_94.png  \n",
            "  inflating: dataset/SCC/SCC_97.png  \n",
            "  inflating: dataset/SCC/SCC_398.png  \n",
            "   creating: dataset/LSIL/\n",
            "  inflating: dataset/LSIL/LSIL_250.png  \n",
            "  inflating: dataset/LSIL/LSIL_348.png  \n",
            "  inflating: dataset/LSIL/LSIL_252.png  \n",
            "  inflating: dataset/LSIL/LSIL_192.png  \n",
            "  inflating: dataset/LSIL/LSIL_44.png  \n",
            "  inflating: dataset/LSIL/LSIL_391.png  \n",
            "  inflating: dataset/LSIL/LSIL_305.png  \n",
            "  inflating: dataset/LSIL/LSIL_311.png  \n",
            "  inflating: dataset/LSIL/LSIL_6.png  \n",
            "  inflating: dataset/LSIL/LSIL_245.png  \n",
            "  inflating: dataset/LSIL/LSIL_306.png  \n",
            "  inflating: dataset/LSIL/LSIL_170.png  \n",
            "  inflating: dataset/LSIL/LSIL_160.png  \n",
            "  inflating: dataset/LSIL/LSIL_330.png  \n",
            "  inflating: dataset/LSIL/LSIL_161.png  \n",
            "  inflating: dataset/LSIL/LSIL_302.png  \n",
            "  inflating: dataset/LSIL/LSIL_335.png  \n",
            "  inflating: dataset/LSIL/LSIL_312.png  \n",
            "  inflating: dataset/LSIL/LSIL_214.png  \n",
            "  inflating: dataset/LSIL/LSIL_272.png  \n",
            "  inflating: dataset/LSIL/LSIL_321.png  \n",
            "  inflating: dataset/LSIL/LSIL_368.png  \n",
            "  inflating: dataset/LSIL/LSIL_351.png  \n",
            "  inflating: dataset/LSIL/LSIL_333.png  \n",
            "  inflating: dataset/LSIL/LSIL_187.png  \n",
            "  inflating: dataset/LSIL/LSIL_304.png  \n",
            "  inflating: dataset/LSIL/LSIL_331.png  \n",
            "  inflating: dataset/LSIL/LSIL_184.png  \n",
            "  inflating: dataset/LSIL/LSIL_307.png  \n",
            "  inflating: dataset/LSIL/LSIL_189.png  \n",
            "  inflating: dataset/LSIL/LSIL_238.png  \n",
            "  inflating: dataset/LSIL/LSIL_337.png  \n",
            "  inflating: dataset/LSIL/LSIL_42.png  \n",
            "  inflating: dataset/LSIL/LSIL_309.png  \n",
            "  inflating: dataset/LSIL/LSIL_230.png  \n",
            "  inflating: dataset/LSIL/LSIL_319.png  \n",
            "  inflating: dataset/LSIL/LSIL_229.png  \n",
            "  inflating: dataset/LSIL/LSIL_370.png  \n",
            "  inflating: dataset/LSIL/LSIL_358.png  \n",
            "  inflating: dataset/LSIL/LSIL_186.png  \n",
            "  inflating: dataset/LSIL/LSIL_17.png  \n",
            "  inflating: dataset/LSIL/LSIL_256.png  \n",
            "  inflating: dataset/LSIL/LSIL_33.png  \n",
            "  inflating: dataset/LSIL/LSIL_328.png  \n",
            "  inflating: dataset/LSIL/LSIL_324.png  \n",
            "  inflating: dataset/LSIL/LSIL_314.png  \n",
            "  inflating: dataset/LSIL/LSIL_225.png  \n",
            "  inflating: dataset/LSIL/LSIL_164.png  \n",
            "  inflating: dataset/LSIL/LSIL_244.png  \n",
            "  inflating: dataset/LSIL/LSIL_45.png  \n",
            "  inflating: dataset/LSIL/LSIL_37.png  \n",
            "  inflating: dataset/LSIL/LSIL_338.png  \n",
            "  inflating: dataset/LSIL/LSIL_177.png  \n",
            "  inflating: dataset/LSIL/LSIL_343.png  \n",
            "  inflating: dataset/LSIL/LSIL_8.png  \n",
            "  inflating: dataset/LSIL/LSIL_40.png  \n",
            "  inflating: dataset/LSIL/LSIL_342.png  \n",
            "  inflating: dataset/LSIL/LSIL_349.png  \n",
            "  inflating: dataset/LSIL/LSIL_24.png  \n",
            "  inflating: dataset/LSIL/LSIL_182.png  \n",
            "  inflating: dataset/LSIL/LSIL_360.png  \n",
            "  inflating: dataset/LSIL/LSIL_363.png  \n",
            "  inflating: dataset/LSIL/LSIL_249.png  \n",
            "  inflating: dataset/LSIL/LSIL_226.png  \n",
            "  inflating: dataset/LSIL/LSIL_167.png  \n",
            "  inflating: dataset/LSIL/LSIL_303.png  \n",
            "  inflating: dataset/LSIL/LSIL_345.png  \n",
            "  inflating: dataset/LSIL/LSIL_243.png  \n",
            "  inflating: dataset/LSIL/LSIL_279.png  \n",
            "  inflating: dataset/LSIL/LSIL_41.png  \n",
            "  inflating: dataset/LSIL/LSIL_316.png  \n",
            "  inflating: dataset/LSIL/LSIL_162.png  \n",
            "  inflating: dataset/LSIL/LSIL_332.png  \n",
            "  inflating: dataset/LSIL/LSIL_176.png  \n",
            "  inflating: dataset/LSIL/LSIL_364.png  \n",
            "  inflating: dataset/LSIL/LSIL_239.png  \n",
            "  inflating: dataset/LSIL/LSIL_242.png  \n",
            "  inflating: dataset/LSIL/LSIL_323.png  \n",
            "  inflating: dataset/LSIL/LSIL_43.png  \n",
            "  inflating: dataset/LSIL/LSIL_308.png  \n",
            "  inflating: dataset/LSIL/LSIL_362.png  \n",
            "  inflating: dataset/LSIL/LSIL_275.png  \n",
            "  inflating: dataset/LSIL/LSIL_173.png  \n",
            "  inflating: dataset/LSIL/LSIL_237.png  \n",
            "  inflating: dataset/LSIL/LSIL_7.png  \n",
            "  inflating: dataset/LSIL/LSIL_202.png  \n",
            "  inflating: dataset/LSIL/LSIL_180.png  \n",
            "  inflating: dataset/LSIL/LSIL_371.png  \n",
            "  inflating: dataset/LSIL/LSIL_327.png  \n",
            "  inflating: dataset/LSIL/LSIL_251.png  \n",
            "  inflating: dataset/LSIL/LSIL_10.png  \n",
            "  inflating: dataset/LSIL/LSIL_172.png  \n",
            "  inflating: dataset/LSIL/LSIL_369.png  \n",
            "  inflating: dataset/LSIL/LSIL_190.png  \n",
            "  inflating: dataset/LSIL/LSIL_5.png  \n",
            "  inflating: dataset/LSIL/LSIL_174.png  \n",
            "  inflating: dataset/LSIL/LSIL_258.png  \n",
            "  inflating: dataset/LSIL/LSIL_257.png  \n",
            "  inflating: dataset/LSIL/LSIL_365.png  \n",
            "  inflating: dataset/LSIL/LSIL_1.png  \n",
            "  inflating: dataset/LSIL/LSIL_313.png  \n",
            "  inflating: dataset/LSIL/LSIL_320.png  \n",
            "  inflating: dataset/LSIL/LSIL_367.png  \n",
            "  inflating: dataset/LSIL/LSIL_353.png  \n",
            "  inflating: dataset/LSIL/LSIL_168.png  \n",
            "  inflating: dataset/LSIL/LSIL_393.png  \n",
            "  inflating: dataset/LSIL/LSIL_322.png  \n",
            "  inflating: dataset/LSIL/LSIL_341.png  \n",
            "  inflating: dataset/LSIL/LSIL_193.png  \n",
            "  inflating: dataset/LSIL/LSIL_194.png  \n",
            "  inflating: dataset/LSIL/LSIL_355.png  \n",
            "  inflating: dataset/LSIL/LSIL_359.png  \n",
            "  inflating: dataset/LSIL/LSIL_354.png  \n",
            "  inflating: dataset/LSIL/LSIL_185.png  \n",
            "  inflating: dataset/LSIL/LSIL_336.png  \n",
            "  inflating: dataset/LSIL/LSIL_350.png  \n",
            "  inflating: dataset/LSIL/LSIL_326.png  \n",
            "  inflating: dataset/LSIL/LSIL_329.png  \n",
            "  inflating: dataset/LSIL/LSIL_318.png  \n",
            "  inflating: dataset/LSIL/LSIL_171.png  \n",
            "  inflating: dataset/LSIL/LSIL_344.png  \n",
            "  inflating: dataset/LSIL/LSIL_181.png  \n",
            "  inflating: dataset/LSIL/LSIL_254.png  \n",
            "  inflating: dataset/LSIL/LSIL_246.png  \n",
            "  inflating: dataset/LSIL/LSIL_298.png  \n",
            "  inflating: dataset/LSIL/LSIL_315.png  \n",
            "  inflating: dataset/LSIL/LSIL_169.png  \n",
            "  inflating: dataset/LSIL/LSIL_248.png  \n",
            "  inflating: dataset/LSIL/LSIL_188.png  \n",
            "  inflating: dataset/LSIL/LSIL_39.png  \n",
            "  inflating: dataset/LSIL/LSIL_361.png  \n",
            "  inflating: dataset/LSIL/LSIL_352.png  \n",
            "  inflating: dataset/LSIL/LSIL_201.png  \n",
            "  inflating: dataset/LSIL/LSIL_334.png  \n",
            "  inflating: dataset/LSIL/LSIL_347.png  \n",
            "  inflating: dataset/LSIL/LSIL_196.png  \n",
            "  inflating: dataset/LSIL/LSIL_165.png  \n",
            "  inflating: dataset/LSIL/LSIL_356.png  \n",
            "  inflating: dataset/LSIL/LSIL_357.png  \n",
            "  inflating: dataset/LSIL/LSIL_235.png  \n",
            "  inflating: dataset/LSIL/LSIL_38.png  \n",
            "  inflating: dataset/LSIL/LSIL_392.png  \n",
            "  inflating: dataset/LSIL/LSIL_310.png  \n",
            "  inflating: dataset/LSIL/LSIL_163.png  \n",
            "  inflating: dataset/LSIL/LSIL_179.png  \n",
            "  inflating: dataset/LSIL/LSIL_12.png  \n",
            "  inflating: dataset/LSIL/LSIL_175.png  \n",
            "  inflating: dataset/LSIL/LSIL_35.png  \n",
            "  inflating: dataset/LSIL/LSIL_159.png  \n",
            "  inflating: dataset/LSIL/LSIL_195.png  \n",
            "  inflating: dataset/LSIL/LSIL_240.png  \n",
            "  inflating: dataset/LSIL/LSIL_183.png  \n",
            "  inflating: dataset/LSIL/LSIL_200.png  \n",
            "  inflating: dataset/LSIL/LSIL_178.png  \n",
            "  inflating: dataset/LSIL/LSIL_36.png  \n",
            "  inflating: dataset/LSIL/LSIL_9.png  \n",
            "  inflating: dataset/LSIL/LSIL_299.png  \n",
            "  inflating: dataset/LSIL/LSIL_247.png  \n",
            "  inflating: dataset/LSIL/LSIL_191.png  \n",
            "  inflating: dataset/LSIL/LSIL_366.png  \n",
            "  inflating: dataset/LSIL/LSIL_166.png  \n",
            "  inflating: dataset/LSIL/LSIL_325.png  \n",
            "  inflating: dataset/LSIL/LSIL_241.png  \n",
            "  inflating: dataset/LSIL/LSIL_158.png  \n",
            "  inflating: dataset/LSIL/LSIL_346.png  \n",
            "   creating: dataset/HSIL/\n",
            "  inflating: dataset/HSIL/HSIL_77.png  \n",
            "  inflating: dataset/HSIL/HSIL_67.png  \n",
            "  inflating: dataset/HSIL/HSIL_76.png  \n",
            "  inflating: dataset/HSIL/HSIL_395.png  \n",
            "  inflating: dataset/HSIL/HSIL_394.png  \n",
            "  inflating: dataset/HSIL/HSIL_69.png  \n",
            "  inflating: dataset/HSIL/HSIL_66.png  \n",
            "  inflating: dataset/HSIL/HSIL_74.png  \n",
            "  inflating: dataset/HSIL/HSIL_4.png  \n",
            "  inflating: dataset/HSIL/HSIL_390.png  \n",
            "  inflating: dataset/HSIL/HSIL_68.png  \n",
            "  inflating: dataset/HSIL/HSIL_70.png  \n",
            "  inflating: dataset/HSIL/HSIL_78.png  \n",
            "  inflating: dataset/HSIL/HSIL_72.png  \n",
            "  inflating: dataset/HSIL/HSIL_62.png  \n",
            "  inflating: dataset/HSIL/HSIL_60.png  \n",
            "  inflating: dataset/HSIL/HSIL_75.png  \n",
            "  inflating: dataset/HSIL/HSIL_73.png  \n",
            "  inflating: dataset/HSIL/HSIL_397.png  \n",
            "  inflating: dataset/HSIL/HSIL_79.png  \n",
            "  inflating: dataset/HSIL/HSIL_396.png  \n",
            "  inflating: dataset/HSIL/HSIL_71.png  \n",
            "  inflating: dataset/HSIL/HSIL_63.png  \n",
            "  inflating: dataset/HSIL/HSIL_61.png  \n",
            "   creating: dataset/ASC-US/\n",
            "  inflating: dataset/ASC-US/ASC-US_215.png  \n",
            "  inflating: dataset/ASC-US/ASC-US_15.png  \n",
            "  inflating: dataset/ASC-US/ASC-US_276.png  \n",
            "  inflating: dataset/ASC-US/ASC-US_288.png  \n",
            "  inflating: dataset/ASC-US/ASC-US_203.png  \n",
            "  inflating: dataset/ASC-US/ASC-US_376.png  \n",
            "  inflating: dataset/ASC-US/ASC-US_286.png  \n",
            "  inflating: dataset/ASC-US/ASC-US_271.png  \n",
            "  inflating: dataset/ASC-US/ASC-US_277.png  \n",
            "  inflating: dataset/ASC-US/ASC-US_294.png  \n",
            "  inflating: dataset/ASC-US/ASC-US_253.png  \n",
            "  inflating: dataset/ASC-US/ASC-US_231.png  \n",
            "  inflating: dataset/ASC-US/ASC-US_206.png  \n",
            "  inflating: dataset/ASC-US/ASC-US_197.png  \n",
            "  inflating: dataset/ASC-US/ASC-US_278.png  \n",
            "  inflating: dataset/ASC-US/ASC-US_212.png  \n",
            "  inflating: dataset/ASC-US/ASC-US_290.png  \n",
            "  inflating: dataset/ASC-US/ASC-US_219.png  \n",
            "  inflating: dataset/ASC-US/ASC-US_267.png  \n",
            "  inflating: dataset/ASC-US/ASC-US_273.png  \n",
            "  inflating: dataset/ASC-US/ASC-US_18.png  \n",
            "  inflating: dataset/ASC-US/ASC-US_291.png  \n",
            "  inflating: dataset/ASC-US/ASC-US_292.png  \n",
            "  inflating: dataset/ASC-US/ASC-US_233.png  \n",
            "  inflating: dataset/ASC-US/ASC-US_227.png  \n",
            "  inflating: dataset/ASC-US/ASC-US_282.png  \n",
            "  inflating: dataset/ASC-US/ASC-US_23.png  \n",
            "  inflating: dataset/ASC-US/ASC-US_223.png  \n",
            "  inflating: dataset/ASC-US/ASC-US_374.png  \n",
            "  inflating: dataset/ASC-US/ASC-US_381.png  \n",
            "  inflating: dataset/ASC-US/ASC-US_228.png  \n",
            "  inflating: dataset/ASC-US/ASC-US_375.png  \n",
            "  inflating: dataset/ASC-US/ASC-US_285.png  \n",
            "  inflating: dataset/ASC-US/ASC-US_262.png  \n",
            "  inflating: dataset/ASC-US/ASC-US_14.png  \n",
            "  inflating: dataset/ASC-US/ASC-US_31.png  \n",
            "  inflating: dataset/ASC-US/ASC-US_26.png  \n",
            "  inflating: dataset/ASC-US/ASC-US_220.png  \n",
            "  inflating: dataset/ASC-US/ASC-US_287.png  \n",
            "  inflating: dataset/ASC-US/ASC-US_281.png  \n",
            "  inflating: dataset/ASC-US/ASC-US_216.png  \n",
            "  inflating: dataset/ASC-US/ASC-US_19.png  \n",
            "  inflating: dataset/ASC-US/ASC-US_21.png  \n",
            "  inflating: dataset/ASC-US/ASC-US_289.png  \n",
            "  inflating: dataset/ASC-US/ASC-US_199.png  \n",
            "  inflating: dataset/ASC-US/ASC-US_260.png  \n",
            "  inflating: dataset/ASC-US/ASC-US_284.png  \n",
            "  inflating: dataset/ASC-US/ASC-US_379.png  \n",
            "  inflating: dataset/ASC-US/ASC-US_29.png  \n",
            "  inflating: dataset/ASC-US/ASC-US_236.png  \n",
            "  inflating: dataset/ASC-US/ASC-US_268.png  \n",
            "  inflating: dataset/ASC-US/ASC-US_317.png  \n",
            "  inflating: dataset/ASC-US/ASC-US_300.png  \n",
            "  inflating: dataset/ASC-US/ASC-US_295.png  \n",
            "  inflating: dataset/ASC-US/ASC-US_207.png  \n",
            "  inflating: dataset/ASC-US/ASC-US_280.png  \n",
            "  inflating: dataset/ASC-US/ASC-US_11.png  \n",
            "  inflating: dataset/ASC-US/ASC-US_224.png  \n",
            "  inflating: dataset/ASC-US/ASC-US_255.png  \n",
            "  inflating: dataset/ASC-US/ASC-US_204.png  \n",
            "  inflating: dataset/ASC-US/ASC-US_301.png  \n",
            "  inflating: dataset/ASC-US/ASC-US_377.png  \n",
            "  inflating: dataset/ASC-US/ASC-US_283.png  \n",
            "  inflating: dataset/ASC-US/ASC-US_270.png  \n",
            "  inflating: dataset/ASC-US/ASC-US_380.png  \n",
            "  inflating: dataset/ASC-US/ASC-US_205.png  \n",
            "  inflating: dataset/ASC-US/ASC-US_217.png  \n",
            "  inflating: dataset/ASC-US/ASC-US_34.png  \n",
            "  inflating: dataset/ASC-US/ASC-US_20.png  \n",
            "  inflating: dataset/ASC-US/ASC-US_16.png  \n",
            "  inflating: dataset/ASC-US/ASC-US_213.png  \n",
            "  inflating: dataset/ASC-US/ASC-US_259.png  \n",
            "  inflating: dataset/ASC-US/ASC-US_263.png  \n",
            "  inflating: dataset/ASC-US/ASC-US_373.png  \n",
            "  inflating: dataset/ASC-US/ASC-US_25.png  \n",
            "  inflating: dataset/ASC-US/ASC-US_382.png  \n",
            "  inflating: dataset/ASC-US/ASC-US_218.png  \n",
            "  inflating: dataset/ASC-US/ASC-US_232.png  \n",
            "  inflating: dataset/ASC-US/ASC-US_296.png  \n",
            "  inflating: dataset/ASC-US/ASC-US_210.png  \n",
            "  inflating: dataset/ASC-US/ASC-US_198.png  \n",
            "  inflating: dataset/ASC-US/ASC-US_234.png  \n",
            "  inflating: dataset/ASC-US/ASC-US_266.png  \n",
            "  inflating: dataset/ASC-US/ASC-US_265.png  \n",
            "  inflating: dataset/ASC-US/ASC-US_372.png  \n",
            "  inflating: dataset/ASC-US/ASC-US_211.png  \n",
            "  inflating: dataset/ASC-US/ASC-US_274.png  \n",
            "  inflating: dataset/ASC-US/ASC-US_297.png  \n",
            "  inflating: dataset/ASC-US/ASC-US_208.png  \n",
            "  inflating: dataset/ASC-US/ASC-US_138.png  \n",
            "  inflating: dataset/ASC-US/ASC-US_32.png  \n",
            "  inflating: dataset/ASC-US/ASC-US_209.png  \n",
            "  inflating: dataset/ASC-US/ASC-US_293.png  \n",
            "  inflating: dataset/ASC-US/ASC-US_221.png  \n",
            "  inflating: dataset/ASC-US/ASC-US_2.png  \n",
            "  inflating: dataset/ASC-US/ASC-US_222.png  \n",
            "  inflating: dataset/ASC-US/ASC-US_269.png  \n",
            "  inflating: dataset/ASC-US/ASC-US_264.png  \n",
            "  inflating: dataset/ASC-US/ASC-US_261.png  \n",
            "  inflating: dataset/ASC-US/ASC-US_13.png  \n",
            "  inflating: dataset/ASC-US/ASC-US_378.png  \n"
          ]
        }
      ]
    },
    {
      "cell_type": "markdown",
      "source": [
        "## Imports"
      ],
      "metadata": {
        "id": "bTGY1JsLTWyq"
      }
    },
    {
      "cell_type": "code",
      "source": [
        "import os\n",
        "import shutil\n",
        "import glob2\n",
        "import math"
      ],
      "metadata": {
        "id": "bJIEGmNtTW_N"
      },
      "execution_count": 6,
      "outputs": []
    },
    {
      "cell_type": "markdown",
      "source": [
        "## Explore"
      ],
      "metadata": {
        "id": "oGBlMHF2kIQm"
      }
    },
    {
      "cell_type": "code",
      "source": [
        "# CRIC structured dataset files\n",
        "DATA_DIR = 'dataset/'"
      ],
      "metadata": {
        "id": "53tkzGQFhuMx"
      },
      "execution_count": 7,
      "outputs": []
    },
    {
      "cell_type": "code",
      "source": [
        "classes = os.listdir(DATA_DIR)\n",
        "classes"
      ],
      "metadata": {
        "colab": {
          "base_uri": "https://localhost:8080/"
        },
        "id": "DJveWulSxUb7",
        "outputId": "052ced10-1ccf-4a16-8395-f3768f0753d1"
      },
      "execution_count": 8,
      "outputs": [
        {
          "output_type": "execute_result",
          "data": {
            "text/plain": [
              "['LSIL', 'SCC', 'HSIL', 'ASC-US', 'NILM', 'ASC-H']"
            ]
          },
          "metadata": {},
          "execution_count": 8
        }
      ]
    },
    {
      "cell_type": "code",
      "source": [
        "NUM_CLASSES = len(classes)\n",
        "NUM_CLASSES"
      ],
      "metadata": {
        "colab": {
          "base_uri": "https://localhost:8080/"
        },
        "id": "t810kjpfshZF",
        "outputId": "9b083005-97e3-4854-f5e2-3568568b73b7"
      },
      "execution_count": 9,
      "outputs": [
        {
          "output_type": "execute_result",
          "data": {
            "text/plain": [
              "6"
            ]
          },
          "metadata": {},
          "execution_count": 9
        }
      ]
    },
    {
      "cell_type": "markdown",
      "source": [
        "## Organize Samples"
      ],
      "metadata": {
        "id": "x4ydR95Hh4Y1"
      }
    },
    {
      "cell_type": "code",
      "source": [
        "files_by_class = {}\n",
        "for i in range(NUM_CLASSES):\n",
        "    obj = {}\n",
        "    obj['images'] = glob2.glob(DATA_DIR+classes[i]+'/*.png')\n",
        "    obj['num_images'] = len(obj['images'])\n",
        "    files_by_class[classes[i]] = obj"
      ],
      "metadata": {
        "id": "rLbU_ROMcXYC"
      },
      "execution_count": 10,
      "outputs": []
    },
    {
      "cell_type": "code",
      "source": [
        "# Show sample count for each class\n",
        "total_images = 0\n",
        "for k in files_by_class:\n",
        "    obj = files_by_class[k]\n",
        "    total_images += int(obj['num_images'])\n",
        "    print(k,': ', obj['num_images'])\n",
        "\n",
        "print('Total: ', total_images)"
      ],
      "metadata": {
        "colab": {
          "base_uri": "https://localhost:8080/"
        },
        "id": "f8pQdqS5yg6L",
        "outputId": "502d5256-a40e-441a-86ad-b3d27dd85eb9"
      },
      "execution_count": 12,
      "outputs": [
        {
          "output_type": "stream",
          "name": "stdout",
          "text": [
            "LSIL :  165\n",
            "SCC :  21\n",
            "HSIL :  24\n",
            "ASC-US :  101\n",
            "NILM :  59\n",
            "ASC-H :  30\n",
            "Total:  400\n"
          ]
        }
      ]
    },
    {
      "cell_type": "markdown",
      "source": [
        "## Split Dataset for Train, Validation and Test"
      ],
      "metadata": {
        "id": "1_z1pnHoZHX4"
      }
    },
    {
      "cell_type": "code",
      "source": [
        "# 80-10-10 split\n",
        "train_split = 0.8\n",
        "val_split = 0.1\n",
        "test_split = 0.1"
      ],
      "metadata": {
        "id": "dVofd-wV76pI"
      },
      "execution_count": 16,
      "outputs": []
    },
    {
      "cell_type": "markdown",
      "source": [
        "## Create Folder Structure"
      ],
      "metadata": {
        "id": "A4f9kUobjoYX"
      }
    },
    {
      "cell_type": "code",
      "source": [
        "os.mkdir('dataset_split/')\n",
        "\n",
        "# create folders for train, val and test\n",
        "dirs = ['dataset_split/train', 'dataset_split/val', 'dataset_split/test']\n",
        "for dir in dirs:\n",
        "    os.mkdir(dir)\n",
        "\n",
        "    # create folder for each class\n",
        "    for c in classes:\n",
        "        os.mkdir(dir+'/'+c)\n",
        "    "
      ],
      "metadata": {
        "id": "9TUEVHu98ham"
      },
      "execution_count": 18,
      "outputs": []
    },
    {
      "cell_type": "markdown",
      "source": [
        "## Copy Files to Folder Structure"
      ],
      "metadata": {
        "id": "vH2X3GPKG8lb"
      }
    },
    {
      "cell_type": "code",
      "source": [
        "# Show count for each class\n",
        "for k in files_by_class:\n",
        "    obj = files_by_class[k]\n",
        "    images = obj['images']\n",
        "    num_images = int(obj['num_images'])\n",
        "    \n",
        "    # calculate sample size\n",
        "    train_samples = round(num_images * train_split)\n",
        "    val_samples = round(num_images * val_split)\n",
        "    test_samples = round(num_images * test_split)\n",
        "\n",
        "    # split arrays\n",
        "    train_images = images[0:train_samples]\n",
        "    val_images = images[train_samples:train_samples+val_samples]\n",
        "    test_images = images[train_samples+val_samples:]\n",
        "\n",
        "    # Copy files\n",
        "    for img in train_images:\n",
        "        filename = img[img.rindex('/')+1:]\n",
        "        shutil.copyfile(img, 'dataset_split/train/'+k+'/'+filename)\n",
        "\n",
        "    for img in val_images:\n",
        "        filename = img[img.rindex('/')+1:]\n",
        "        shutil.copyfile(img, 'dataset_split/val/'+k+'/'+filename)\n",
        "\n",
        "    for img in test_images:\n",
        "        filename = img[img.rindex('/')+1:]\n",
        "        shutil.copyfile(img, 'dataset_split/test/'+k+'/'+filename)\n",
        "\n",
        "    print('%s, train_len: %s, val_len: %s, test_len: %s' % (k, len(train_images), len(val_images), len(test_images)))\n"
      ],
      "metadata": {
        "colab": {
          "base_uri": "https://localhost:8080/"
        },
        "id": "lBpZtx_fZH15",
        "outputId": "6726438c-6592-41ba-fce0-ef3cd16b7295"
      },
      "execution_count": 19,
      "outputs": [
        {
          "output_type": "stream",
          "name": "stdout",
          "text": [
            "LSIL, train_len: 132, val_len: 16, test_len: 17\n",
            "SCC, train_len: 17, val_len: 2, test_len: 2\n",
            "HSIL, train_len: 19, val_len: 2, test_len: 3\n",
            "ASC-US, train_len: 81, val_len: 10, test_len: 10\n",
            "NILM, train_len: 47, val_len: 6, test_len: 6\n",
            "ASC-H, train_len: 24, val_len: 3, test_len: 3\n"
          ]
        }
      ]
    },
    {
      "cell_type": "code",
      "source": [],
      "metadata": {
        "id": "Asck0PJKYcfT"
      },
      "execution_count": null,
      "outputs": []
    }
  ]
}