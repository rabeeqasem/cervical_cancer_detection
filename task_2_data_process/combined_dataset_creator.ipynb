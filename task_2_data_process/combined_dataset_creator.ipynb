{
 "cells": [
  {
   "cell_type": "markdown",
   "id": "aa90764a",
   "metadata": {},
   "source": [
    "## About:\n",
    "\n",
    "Author(s): Leon,\n",
    "\n",
    "This notebook contains code for getting image filepaths and labels, transforming the images and then saving the transformed images into a new folder.\n",
    "\n",
    "The steps are as follows:\n",
    "\n",
    "* Getting the filepaths and image labels for the image datasets: \n",
    "1.  cric_cropped \n",
    "2.  cric_full\n",
    "3.  mendeley/hussain\n",
    "4.  cervix93\n",
    "\n",
    "* The image labels are then transformed into binary labels. \n",
    "* The lists of filepaths and image labels are then joined together.\n",
    "* The filepaths are then passed into a tensorflow data pipeline which applies a basic image transform (resize to 90x90 and greyscale but this can easily be expanded to something more complex). \n",
    "* The modified images are then shuffled, split into train/valid/test splits and then saved into a sub folder matching the image label. \n"
   ]
  },
  {
   "cell_type": "markdown",
   "id": "07e5fdee",
   "metadata": {},
   "source": [
    "## To do: \n",
    "* Optimise the image saving process to make it more efficient\n",
    "* Copy notebook and make new functions to accept multi-class labels from the filenames\n",
    "* Write function to process Cdetector images/labels. \n"
   ]
  },
  {
   "cell_type": "code",
   "execution_count": 18,
   "id": "6b1927d7",
   "metadata": {},
   "outputs": [],
   "source": [
    "import os\n",
    "# !pip install shutil\n",
    "import shutil\n",
    "import numpy as np\n",
    "import pandas as pd\n",
    "from sklearn.utils import shuffle\n",
    "import tensorflow as tf\n",
    "from tensorflow import keras\n",
    "import matplotlib.pyplot as plt\n",
    "#!pip install git+https://github.com/albumentations-team/albumentations\n",
    "import albumentations as A\n",
    "# if have trouble installing/importing albumentations package , \n",
    "# try updating pip: pip install --upgrade pip\n",
    "import cv2"
   ]
  },
  {
   "cell_type": "code",
   "execution_count": 2,
   "id": "29f1b45e",
   "metadata": {},
   "outputs": [],
   "source": [
    "#define various file paths\n",
    "#general file paths\n",
    "data_folder = os.path.join('..','data')\n",
    "os.chdir(data_folder)\n",
    "raw_data_folder = os.path.join(data_folder,'raw')\n",
    "\n",
    "#cric_cropped dataset:\n",
    "cric_cropped = os.path.join(data_folder,'raw/Image_datasets/partner_provided_datasets/cric_cropped/Base_balanceada_dividida')\n",
    "cric_cropped_2_class_dir = os.path.join(cric_cropped,'2_classes')\n",
    "cric_cropped_train_dir = os.path.join(cric_cropped_2_class_dir,'Treino')\n",
    "cric_cropped_val_dir = os.path.join(cric_cropped_2_class_dir,'Validacao')\n",
    "cric_cropped_test_dir = os.path.join(cric_cropped_2_class_dir,'Teste')\n",
    "\n",
    "#cric full\n",
    "cric_full = os.path.join(data_folder,'raw/Image_datasets/partner_provided_datasets/CRIC_FullSlide_dataset')\n",
    "\n",
    "#mendeley hussain\n",
    "mend_hussain = os.path.join(data_folder,'raw/Image_datasets/partner_provided_datasets/mendeley_hussain_liquid_based_cytology')\n",
    "\n",
    "#cervix 93\n",
    "cervix_93 = os.path.join(data_folder,'raw/Image_datasets/partner_provided_datasets/cervix_93/dataset')\n",
    "\n",
    "#cdetector\n",
    "cdetector_train = os.path.join(data_folder,'raw/Image_datasets/partner_provided_datasets/Cdetector/train/train')\n",
    "# cdetector_test = os.path.join(data_folder,'raw/Image_datasets/partner_provided_datasets/Cdetector/train/train')\n",
    "\n"
   ]
  },
  {
   "cell_type": "code",
   "execution_count": 3,
   "id": "e0c5386a",
   "metadata": {},
   "outputs": [],
   "source": [
    "#rename folders/files in directory to have underscores instead of spaces\n",
    "# def renam_folders(input_folder):\n",
    "    # for file in os.listdir(input_folder):\n",
    "    #     old_name = file\n",
    "    #     new_name = file.replace(' ','_')\n",
    "    #     old_path = os.path.join(input_folder,f\"{old_name}\")\n",
    "    #     new_path = os.path.join(input_folder,new_name)\n",
    "    #     os.rename(old_path,new_path)"
   ]
  },
  {
   "cell_type": "markdown",
   "id": "54229ee2",
   "metadata": {},
   "source": [
    "### Get filepaths and labels for each dataset:\n",
    "\n",
    "Now for each dataset we get a list of image filepaths and an associated binary label"
   ]
  },
  {
   "cell_type": "code",
   "execution_count": 4,
   "id": "9a7284c4",
   "metadata": {},
   "outputs": [
    {
     "name": "stdout",
     "output_type": "stream",
     "text": [
      "(5514,)\n",
      "(1381,)\n",
      "(650,)\n",
      "(7545,)\n"
     ]
    }
   ],
   "source": [
    "#get paths and binary labels for cric cropped\n",
    "def get_bin_filepaths_labels_cric_cropped(cric_cropped_filepath):\n",
    "    '''\n",
    "    inputs = cric cropped folder location\n",
    "    outputs = one array for the image filepaths , one array for the binary labels\n",
    "    '''\n",
    "    image_paths = [] #empty list to store filepaths\n",
    "    labels = [] # empty list to store image labels\n",
    "\n",
    "    for root, dirnames, filenames in os.walk(cric_cropped_filepath): #look at all folders and subfolders and get the filenames\n",
    "        for filename in filenames: #loop through filenames\n",
    "          temp_path = os.path.join(root,filename) # temp filepath\n",
    "#           print(temp_path)\n",
    "          image_paths.append(temp_path) # add to image paths list\n",
    "          temp_label = filename.split('_')[1] #NB this line specific to this dataset\n",
    "          labels.append(temp_label) # add label to label list\n",
    "\n",
    "      #convert list into array\n",
    "    labels_array = np.array(labels)\n",
    "    labels_array = labels_array.astype(int)\n",
    "    return image_paths, labels_array\n",
    "\n",
    "#get all filepaths and labels from tain/valid/split folders\n",
    "cric_cropped_paths_train , cric_cropped_labels_train = get_bin_filepaths_labels_cric_cropped(cric_cropped_train_dir)\n",
    "cric_cropped_paths_val , cric_cropped_labels_val = get_bin_filepaths_labels_cric_cropped(cric_cropped_val_dir)\n",
    "cric_cropped_paths_test , cric_cropped_labels_test = get_bin_filepaths_labels_cric_cropped(cric_cropped_test_dir)\n",
    "\n",
    "#combine all filepaths and all labels\n",
    "cric_cropped_bin_paths_all = np.concatenate((cric_cropped_paths_train,\n",
    "                                         cric_cropped_paths_val,\n",
    "                                        cric_cropped_paths_test), axis=0)\n",
    "\n",
    "cric_cropped_bin_labels_all = np.concatenate((cric_cropped_labels_train,\n",
    "                                         cric_cropped_labels_val,\n",
    "                                        cric_cropped_labels_test), axis=0)\n",
    "#error checking\n",
    "print(np.shape(cric_cropped_labels_train))\n",
    "print(np.shape(cric_cropped_labels_val))\n",
    "print(np.shape(cric_cropped_labels_test))\n",
    "\n",
    "print(np.shape((cric_cropped_bin_labels_all)))"
   ]
  },
  {
   "cell_type": "code",
   "execution_count": 5,
   "id": "0996d35a",
   "metadata": {},
   "outputs": [],
   "source": [
    "#get paths and binary labels for cric full\n",
    "def get_bin_filepaths_labels_cric_full(cric_full_filepath):\n",
    "    '''\n",
    "    inputs = cric full images folder location\n",
    "    outputs = one array for the image filepaths , one array for the binary labels\n",
    "    '''\n",
    "    image_paths = [] #empty list to store filepaths\n",
    "    labels = [] # empty list to store image labels\n",
    "    \n",
    "\n",
    "    for root, dirnames, filenames in os.walk(cric_full_filepath): #look at all folders and subfolders and get the filenames\n",
    "        for filename in filenames: #loop through filenames\n",
    "          temp_path = os.path.join(root,filename) # temp filepath\n",
    "#           print(temp_path)\n",
    "          image_paths.append(temp_path) # add to image paths list\n",
    "          temp_label = filename.split('_')[-2] #NB this line specific to this dataset\n",
    "          labels.append(temp_label) # add label to label list\n",
    "\n",
    "      #convert list into array\n",
    "    labels_array = np.array(labels)\n",
    "#     labels_array = labels_array.astype(int)\n",
    "    return image_paths, labels_array\n",
    "\n",
    "cric_full_paths , cric_full_labels = get_bin_filepaths_labels_cric_full(cric_full)\n",
    "\n",
    "def label_mapping_bin_cric_full(x):\n",
    "  if x == 'NILM':\n",
    "    return 0\n",
    "  else:\n",
    "    return 1\n",
    "\n",
    "#convert labels into 0s and 1s\n",
    "vf = np.vectorize(label_mapping_bin_cric_full)\n",
    "cric_full_labels_new_bin = vf(cric_full_labels).astype(int)"
   ]
  },
  {
   "cell_type": "code",
   "execution_count": 6,
   "id": "656528e4",
   "metadata": {},
   "outputs": [
    {
     "name": "stdout",
     "output_type": "stream",
     "text": [
      "Looking at : High_squamous_intra-epithelial_lesion\n",
      "Looking at : Negative_for_Intraepithelial_malignancy\n",
      "Looking at : Low_squamous_intra-epithelial_lesion\n",
      "Looking at : Squamous_cell_carcinoma\n"
     ]
    }
   ],
   "source": [
    "#get paths and binary labels for mendeley hussain\n",
    "def get_bin_filepaths_labels_mend(mend_dir):\n",
    "    '''\n",
    "    inputs = mendeley images folder location\n",
    "    outputs = one array for the image filepaths , one array for the binary labels\n",
    "    '''\n",
    "    image_paths = [] #empty list to store filepaths\n",
    "    labels = [] # empty list to store image labels\n",
    "    \n",
    "    for root, dirnames, filenames in os.walk(mend_dir,topdown=True): #look at all folders and subfolders and get the filenames\n",
    "      for dir in dirnames:\n",
    "        temp_dir_path = os.path.join(root,dir)\n",
    "        print('Looking at :',dir)\n",
    "        files_in_dir = os.listdir(temp_dir_path)\n",
    "        for filename in files_in_dir: #loop through filenames\n",
    "          if filename == 'Results.csv':\n",
    "            pass\n",
    "          else:\n",
    "            temp_path = os.path.join(root,dir,filename) # temp filepath\n",
    "            #print(temp_path)\n",
    "            image_paths.append(temp_path) # add to image paths list\n",
    "            # if looking at other datasets, below line needs to be modified to get image label from filepath\n",
    "            temp_label = filename.split('_')[0]\n",
    "            labels.append(temp_label) # add label to label list\n",
    "\n",
    "      #convert list into array\n",
    "    image_paths_array = np.array(image_paths)\n",
    "    labels_array = np.array(labels)\n",
    "    # labels_array = labels_array.astype(int)\n",
    "    return image_paths_array, labels_array\n",
    "\n",
    "\n",
    "mend_all_paths , mend_all_labels = get_bin_filepaths_labels_mend(mend_hussain)\n",
    "\n",
    "#convert labels into 0s and 1s\n",
    "def label_mapping_mend(x):\n",
    "  if x == 'NL':\n",
    "    return 0\n",
    "  else:\n",
    "    return 1\n",
    "\n",
    "vf = np.vectorize(label_mapping_mend)\n",
    "mend_labels_new_bin = vf(mend_all_labels).astype(int)"
   ]
  },
  {
   "cell_type": "code",
   "execution_count": 7,
   "id": "7fa71d0f",
   "metadata": {},
   "outputs": [],
   "source": [
    "#get binary labels and filepaths for cervix 93\n",
    "def get_bin_filepaths_labels_cerv93(cervix93_dir):\n",
    "     '''\n",
    "    inputs = cervix93 images folder location\n",
    "    outputs = one array for the image filepaths , one array for the binary labels\n",
    "    '''\n",
    "    image_paths = [] #empty list to store filepaths\n",
    "    labels = [] # empty list to store image labels\n",
    "    \n",
    "    #read csv file with labels\n",
    "    cervix_93_labels = pd.read_csv(os.path.join(data_folder,'raw/Image_datasets/partner_provided_datasets/cervix_93/dataset/labels.csv'))\n",
    "    \n",
    "    #init empty lists\n",
    "    image_paths = [] #empty list to store filepaths\n",
    "    labels = [] # empty list to store image labels\n",
    "    \n",
    "    for root, dirnames, filenames in os.walk(cervix93_dir,topdown=True): #look at all folders and subfolders and get the filenames\n",
    "      for dir in dirnames:\n",
    "        if dir.split('_')[-1] == 'stack':\n",
    "          dir_path = os.path.join(root,dir)\n",
    "#           print('Looking at :',dir)\n",
    "          files_in_dir = os.listdir(dir_path)\n",
    "          temp_frame = dir_path.split('/')[-1].split('_')[-2]\n",
    "#           print(temp_frame)\n",
    "          temp_label = cervix_93_labels.loc[cervix_93_labels['frame'] == temp_frame].label.values[0] #get label string from pandas df\n",
    "          for filename in files_in_dir: #loop through filenames\n",
    "            if filename != 'labels.csv':\n",
    "              temp_path = os.path.join(root,dir,filename) # temp filepath\n",
    "              # print(temp_path)\n",
    "              image_paths.append(temp_path) # add to image paths list\n",
    "              # if looking at other datasets, below line needs to be modified to get image label from filepath\n",
    "              labels.append(temp_label) # add label to label list\n",
    "\n",
    "      #convert list into array\n",
    "    image_paths_array = np.array(image_paths)\n",
    "#     labels_array = np.array(labels)\n",
    "    # labels_array = labels_array.astype(int)\n",
    "    return image_paths_array, labels\n",
    "\n",
    "\n",
    "cervix93_all_paths , cervix93_all_labels = get_bin_filepaths_labels_cerv93(cervix_93)\n",
    "\n",
    "#convert labels to 0s and 1s\n",
    "def label_mapping_cervix(x):\n",
    "  if x == 'N':\n",
    "    return 0\n",
    "  else:\n",
    "    return 1\n",
    "\n",
    "vf = np.vectorize(label_mapping_cervix)\n",
    "cervix93_labels_new_bin = vf(cervix93_all_labels).astype(int)\n",
    "# cervix93_labels_new_bin = cervix93_labels_new_bin.reshape(-1)"
   ]
  },
  {
   "cell_type": "markdown",
   "id": "2547d1de",
   "metadata": {},
   "source": [
    "## Combine filepath lists and label lists"
   ]
  },
  {
   "cell_type": "code",
   "execution_count": 8,
   "id": "e0c9080c",
   "metadata": {},
   "outputs": [
    {
     "name": "stdout",
     "output_type": "stream",
     "text": [
      "item 0 with length 7545\n",
      "item 0 with length 400\n",
      "item 0 with length 962\n",
      "item 0 with length 1602\n",
      "final array lengths: 10509\n"
     ]
    }
   ],
   "source": [
    "filepath_list = [cric_cropped_bin_paths_all, \n",
    "                  cric_full_paths, \n",
    "                  mend_all_paths, \n",
    "                  cervix93_all_paths]\n",
    "\n",
    "labels_list = [cric_cropped_bin_labels_all, \n",
    "                cric_full_labels_new_bin, \n",
    "                mend_labels_new_bin, \n",
    "                cervix93_labels_new_bin]\n",
    "\n",
    "def combine_filepath_lists_label_lists(filepath_list,labels_list):\n",
    "    '''\n",
    "    inputs: \n",
    "    list containing x number of filepath arrays (1 per dataset)\n",
    "    list containing x number of label arrays (1 per dataset)\n",
    "    outputs:\n",
    "    one array for all the filepaths\n",
    "    one array for all the labels\n",
    "    '''\n",
    "    #error checking:\n",
    "    if len(filepath_list) != len(labels_list):\n",
    "        raise ValueError('different lengths of filepath and label lists')\n",
    "    for x in range(len(filepath_list)):\n",
    "        if len(filepath_list[x]) != len(labels_list[x]):\n",
    "            raise ValueError(f'paths or labels at position {x} are different lengths')\n",
    "    \n",
    "    #combine filepaths/labels\n",
    "    for x in range(0,len(filepath_list)):\n",
    "        print(f'item {0} with length {len(filepath_list[x])}')\n",
    "        \n",
    "        if x == 0: # if x = 0 do nothing as we need two items to concat\n",
    "            continue\n",
    "        if x == 1: #if x = 1, create temp array with concat items 0 and 1\n",
    "            temp_filepath_array = np.concatenate((filepath_list[0],filepath_list[1]),axis=0)\n",
    "            temp_labels_array = np.concatenate((labels_list[0],labels_list[1]),axis=0)\n",
    "        else: # add/concat the next item to the temp array\n",
    "            temp_filepath_array = np.concatenate((temp_filepath_array,filepath_list[x]))\n",
    "            temp_labels_array = np.concatenate((temp_labels_array,labels_list[x]))\n",
    "     \n",
    "    print(f'final array lengths: {len(temp_filepath_array)}')\n",
    "    return temp_filepath_array, temp_labels_array\n",
    "    \n",
    "all_bin_filepaths , all_bin_labels = combine_filepath_lists_label_lists(filepath_list,labels_list)"
   ]
  },
  {
   "cell_type": "markdown",
   "id": "61345e12",
   "metadata": {},
   "source": [
    "## Vectorize image processing"
   ]
  },
  {
   "cell_type": "code",
   "execution_count": 9,
   "id": "b6ebc627",
   "metadata": {},
   "outputs": [],
   "source": [
    "#\n",
    "def shuffle_paths_labels(filepaths, labels):\n",
    "    shuff_filepaths , shuff_labels = shuffle(filepaths, labels, random_state=42)\n",
    "    return shuff_filepaths, shuff_labels\n",
    "\n",
    "all_bin_filepaths_shuff , all_bin_labels_shuff = shuffle_paths_labels(all_bin_filepaths ,all_bin_labels)"
   ]
  },
  {
   "cell_type": "code",
   "execution_count": 23,
   "id": "7d26c572",
   "metadata": {},
   "outputs": [
    {
     "data": {
      "text/plain": [
       "Counter({'png': 9547, 'jpg': 962})"
      ]
     },
     "execution_count": 23,
     "metadata": {},
     "output_type": "execute_result"
    }
   ],
   "source": [
    "from collections import Counter\n",
    "#check the types of images we have\n",
    "image_types = []\n",
    "for path in all_bin_filepaths_shuff:\n",
    "    image_type = path.split('.')[-1]\n",
    "    image_types.append(image_type)\n",
    "    \n",
    "Counter(image_types)\n"
   ]
  },
  {
   "cell_type": "code",
   "execution_count": 11,
   "id": "bf9e6979",
   "metadata": {},
   "outputs": [
    {
     "name": "stdout",
     "output_type": "stream",
     "text": [
      "../data/raw/Image_datasets/partner_provided_datasets/cervix_93/dataset/frame050_stack/fov010.png    1\n",
      "../data/raw/Image_datasets/partner_provided_datasets/cric_cropped/Base_balanceada_dividida/2_classes/Treino/3609_1_.png    1\n",
      "../data/raw/Image_datasets/partner_provided_datasets/cric_cropped/Base_balanceada_dividida/2_classes/Treino/3406_1_.png    1\n",
      "../data/raw/Image_datasets/partner_provided_datasets/cric_cropped/Base_balanceada_dividida/2_classes/Treino/627_0_.png    0\n",
      "../data/raw/Image_datasets/partner_provided_datasets/cervix_93/dataset/frame046_stack/fov012.png    1\n",
      "../data/raw/Image_datasets/partner_provided_datasets/cric_cropped/Base_balanceada_dividida/2_classes/Treino/3165_1_.png    1\n",
      "../data/raw/Image_datasets/partner_provided_datasets/CRIC_FullSlide_dataset/LSIL_184.png    1\n",
      "../data/raw/Image_datasets/partner_provided_datasets/cric_cropped/Base_balanceada_dividida/2_classes/Treino/1118_0_.png    0\n",
      "../data/raw/Image_datasets/partner_provided_datasets/CRIC_FullSlide_dataset/NILM_152.png    0\n",
      "../data/raw/Image_datasets/partner_provided_datasets/cervix_93/dataset/frame072_stack/fov008.png    1\n",
      "../data/raw/Image_datasets/partner_provided_datasets/cric_cropped/Base_balanceada_dividida/2_classes/Validacao/1149_1_.png    1\n",
      "../data/raw/Image_datasets/partner_provided_datasets/cric_cropped/Base_balanceada_dividida/2_classes/Validacao/296_0_.png    0\n",
      "../data/raw/Image_datasets/partner_provided_datasets/cric_cropped/Base_balanceada_dividida/2_classes/Treino/5377_1_.png    1\n",
      "../data/raw/Image_datasets/partner_provided_datasets/cric_cropped/Base_balanceada_dividida/2_classes/Treino/677_0_.png    0\n",
      "../data/raw/Image_datasets/partner_provided_datasets/cervix_93/dataset/frame038_stack/fov002.png    1\n",
      "../data/raw/Image_datasets/partner_provided_datasets/cervix_93/dataset/frame043_stack/fov010.png    1\n",
      "../data/raw/Image_datasets/partner_provided_datasets/cric_cropped/Base_balanceada_dividida/2_classes/Validacao/586_0_.png    0\n",
      "../data/raw/Image_datasets/partner_provided_datasets/cric_cropped/Base_balanceada_dividida/2_classes/Validacao/941_1_.png    1\n",
      "../data/raw/Image_datasets/partner_provided_datasets/cric_cropped/Base_balanceada_dividida/2_classes/Treino/3610_1_.png    1\n",
      "../data/raw/Image_datasets/partner_provided_datasets/cric_cropped/Base_balanceada_dividida/2_classes/Treino/2578_0_.png    0\n",
      "../data/raw/Image_datasets/partner_provided_datasets/cric_cropped/Base_balanceada_dividida/2_classes/Treino/4947_1_.png    1\n",
      "../data/raw/Image_datasets/partner_provided_datasets/cervix_93/dataset/frame061_stack/fov006.png    1\n",
      "../data/raw/Image_datasets/partner_provided_datasets/cric_cropped/Base_balanceada_dividida/2_classes/Treino/1171_0_.png    0\n",
      "../data/raw/Image_datasets/partner_provided_datasets/cric_cropped/Base_balanceada_dividida/2_classes/Treino/3691_1_.png    1\n",
      "../data/raw/Image_datasets/partner_provided_datasets/cervix_93/dataset/frame039_stack/fov007.png    1\n",
      "../data/raw/Image_datasets/partner_provided_datasets/cric_cropped/Base_balanceada_dividida/2_classes/Teste/24_0_.png    0\n",
      "../data/raw/Image_datasets/partner_provided_datasets/cric_cropped/Base_balanceada_dividida/2_classes/Treino/4883_1_.png    1\n",
      "../data/raw/Image_datasets/partner_provided_datasets/cric_cropped/Base_balanceada_dividida/2_classes/Validacao/51_0_.png    0\n",
      "../data/raw/Image_datasets/partner_provided_datasets/cric_cropped/Base_balanceada_dividida/2_classes/Treino/843_0_.png    0\n",
      "../data/raw/Image_datasets/partner_provided_datasets/cric_cropped/Base_balanceada_dividida/2_classes/Treino/2108_0_.png    0\n",
      "../data/raw/Image_datasets/partner_provided_datasets/cric_cropped/Base_balanceada_dividida/2_classes/Validacao/203_0_.png    0\n",
      "../data/raw/Image_datasets/partner_provided_datasets/cric_cropped/Base_balanceada_dividida/2_classes/Treino/3450_1_.png    1\n",
      "../data/raw/Image_datasets/partner_provided_datasets/cric_cropped/Base_balanceada_dividida/2_classes/Validacao/703_1_.png    1\n",
      "../data/raw/Image_datasets/partner_provided_datasets/cric_cropped/Base_balanceada_dividida/2_classes/Treino/158_0_.png    0\n",
      "../data/raw/Image_datasets/partner_provided_datasets/cric_cropped/Base_balanceada_dividida/2_classes/Treino/1690_0_.png    0\n",
      "../data/raw/Image_datasets/partner_provided_datasets/cric_cropped/Base_balanceada_dividida/2_classes/Teste/560_1_.png    1\n",
      "../data/raw/Image_datasets/partner_provided_datasets/cric_cropped/Base_balanceada_dividida/2_classes/Treino/5405_1_.png    1\n",
      "../data/raw/Image_datasets/partner_provided_datasets/cric_cropped/Base_balanceada_dividida/2_classes/Validacao/1324_1_.png    1\n",
      "../data/raw/Image_datasets/partner_provided_datasets/cric_cropped/Base_balanceada_dividida/2_classes/Validacao/86_0_.png    0\n",
      "../data/raw/Image_datasets/partner_provided_datasets/cric_cropped/Base_balanceada_dividida/2_classes/Treino/5041_1_.png    1\n",
      "../data/raw/Image_datasets/partner_provided_datasets/cric_cropped/Base_balanceada_dividida/2_classes/Validacao/1144_1_.png    1\n",
      "../data/raw/Image_datasets/partner_provided_datasets/cervix_93/dataset/frame035_stack/fov008.png    1\n",
      "../data/raw/Image_datasets/partner_provided_datasets/mendeley_hussain_liquid_based_cytology/High_squamous_intra-epithelial_lesion/HSIL_7 (4).jpg    1\n",
      "../data/raw/Image_datasets/partner_provided_datasets/cervix_93/dataset/frame037_stack/fov011.png    1\n",
      "../data/raw/Image_datasets/partner_provided_datasets/mendeley_hussain_liquid_based_cytology/Negative_for_Intraepithelial_malignancy/NL_28_ (13).jpg    0\n",
      "../data/raw/Image_datasets/partner_provided_datasets/cervix_93/dataset/frame075_stack/fov003.png    1\n",
      "../data/raw/Image_datasets/partner_provided_datasets/CRIC_FullSlide_dataset/ASC-US_231.png    1\n",
      "../data/raw/Image_datasets/partner_provided_datasets/cric_cropped/Base_balanceada_dividida/2_classes/Treino/3595_1_.png    1\n",
      "../data/raw/Image_datasets/partner_provided_datasets/cric_cropped/Base_balanceada_dividida/2_classes/Treino/3043_1_.png    1\n",
      "../data/raw/Image_datasets/partner_provided_datasets/mendeley_hussain_liquid_based_cytology/Negative_for_Intraepithelial_malignancy/NL_30_ (8).jpg    0\n",
      "../data/raw/Image_datasets/partner_provided_datasets/cervix_93/dataset/frame066_stack/fov003.png    1\n",
      "../data/raw/Image_datasets/partner_provided_datasets/cric_cropped/Base_balanceada_dividida/2_classes/Treino/1904_0_.png    0\n",
      "../data/raw/Image_datasets/partner_provided_datasets/cric_cropped/Base_balanceada_dividida/2_classes/Treino/824_0_.png    0\n",
      "../data/raw/Image_datasets/partner_provided_datasets/cric_cropped/Base_balanceada_dividida/2_classes/Teste/128_0_.png    0\n",
      "../data/raw/Image_datasets/partner_provided_datasets/cric_cropped/Base_balanceada_dividida/2_classes/Treino/4671_1_.png    1\n",
      "../data/raw/Image_datasets/partner_provided_datasets/cric_cropped/Base_balanceada_dividida/2_classes/Treino/3724_1_.png    1\n",
      "../data/raw/Image_datasets/partner_provided_datasets/cric_cropped/Base_balanceada_dividida/2_classes/Validacao/288_0_.png    0\n",
      "../data/raw/Image_datasets/partner_provided_datasets/cervix_93/dataset/frame084_stack/fov014.png    0\n",
      "../data/raw/Image_datasets/partner_provided_datasets/cric_cropped/Base_balanceada_dividida/2_classes/Validacao/430_0_.png    0\n",
      "../data/raw/Image_datasets/partner_provided_datasets/cric_cropped/Base_balanceada_dividida/2_classes/Treino/1353_0_.png    0\n",
      "../data/raw/Image_datasets/partner_provided_datasets/cric_cropped/Base_balanceada_dividida/2_classes/Treino/1862_0_.png    0\n",
      "../data/raw/Image_datasets/partner_provided_datasets/cric_cropped/Base_balanceada_dividida/2_classes/Treino/3329_1_.png    1\n",
      "../data/raw/Image_datasets/partner_provided_datasets/mendeley_hussain_liquid_based_cytology/Negative_for_Intraepithelial_malignancy/NL_21_ (12).jpg    0\n",
      "../data/raw/Image_datasets/partner_provided_datasets/cervix_93/dataset/frame044_stack/fov000.png    1\n",
      "../data/raw/Image_datasets/partner_provided_datasets/cric_cropped/Base_balanceada_dividida/2_classes/Treino/5269_1_.png    1\n",
      "../data/raw/Image_datasets/partner_provided_datasets/cric_cropped/Base_balanceada_dividida/2_classes/Treino/3069_1_.png    1\n",
      "../data/raw/Image_datasets/partner_provided_datasets/mendeley_hussain_liquid_based_cytology/Negative_for_Intraepithelial_malignancy/NL_37_ (8).jpg    0\n",
      "../data/raw/Image_datasets/partner_provided_datasets/cervix_93/dataset/frame049_stack/fov019.png    1\n",
      "../data/raw/Image_datasets/partner_provided_datasets/cervix_93/dataset/frame044_stack/fov005.png    1\n",
      "../data/raw/Image_datasets/partner_provided_datasets/cric_cropped/Base_balanceada_dividida/2_classes/Teste/63_0_.png    0\n",
      "../data/raw/Image_datasets/partner_provided_datasets/mendeley_hussain_liquid_based_cytology/Low_squamous_intra-epithelial_lesion/LSIL_1 (20).jpg    1\n",
      "../data/raw/Image_datasets/partner_provided_datasets/cric_cropped/Base_balanceada_dividida/2_classes/Treino/817_0_.png    0\n",
      "../data/raw/Image_datasets/partner_provided_datasets/cric_cropped/Base_balanceada_dividida/2_classes/Treino/4431_1_.png    1\n",
      "../data/raw/Image_datasets/partner_provided_datasets/cric_cropped/Base_balanceada_dividida/2_classes/Treino/4242_1_.png    1\n",
      "../data/raw/Image_datasets/partner_provided_datasets/cric_cropped/Base_balanceada_dividida/2_classes/Treino/3201_1_.png    1\n",
      "../data/raw/Image_datasets/partner_provided_datasets/cric_cropped/Base_balanceada_dividida/2_classes/Treino/3752_1_.png    1\n",
      "../data/raw/Image_datasets/partner_provided_datasets/cervix_93/dataset/frame092_stack/fov008.png    0\n",
      "../data/raw/Image_datasets/partner_provided_datasets/CRIC_FullSlide_dataset/SCC_89.png    1\n",
      "../data/raw/Image_datasets/partner_provided_datasets/cric_cropped/Base_balanceada_dividida/2_classes/Treino/1293_0_.png    0\n",
      "../data/raw/Image_datasets/partner_provided_datasets/cervix_93/dataset/frame077_stack/fov002.png    0\n",
      "../data/raw/Image_datasets/partner_provided_datasets/cric_cropped/Base_balanceada_dividida/2_classes/Treino/3536_1_.png    1\n",
      "../data/raw/Image_datasets/partner_provided_datasets/cric_cropped/Base_balanceada_dividida/2_classes/Treino/1480_0_.png    0\n",
      "../data/raw/Image_datasets/partner_provided_datasets/CRIC_FullSlide_dataset/LSIL_324.png    1\n",
      "../data/raw/Image_datasets/partner_provided_datasets/cric_cropped/Base_balanceada_dividida/2_classes/Treino/4623_1_.png    1\n",
      "../data/raw/Image_datasets/partner_provided_datasets/cric_cropped/Base_balanceada_dividida/2_classes/Validacao/265_0_.png    0\n",
      "../data/raw/Image_datasets/partner_provided_datasets/cric_cropped/Base_balanceada_dividida/2_classes/Treino/3122_1_.png    1\n",
      "../data/raw/Image_datasets/partner_provided_datasets/cric_cropped/Base_balanceada_dividida/2_classes/Validacao/780_1_.png    1\n",
      "../data/raw/Image_datasets/partner_provided_datasets/cric_cropped/Base_balanceada_dividida/2_classes/Treino/4251_1_.png    1\n",
      "../data/raw/Image_datasets/partner_provided_datasets/cric_cropped/Base_balanceada_dividida/2_classes/Treino/48_0_.png    0\n",
      "../data/raw/Image_datasets/partner_provided_datasets/cric_cropped/Base_balanceada_dividida/2_classes/Treino/4290_1_.png    1\n",
      "../data/raw/Image_datasets/partner_provided_datasets/cervix_93/dataset/frame034_stack/fov019.png    1\n",
      "../data/raw/Image_datasets/partner_provided_datasets/cric_cropped/Base_balanceada_dividida/2_classes/Treino/1544_0_.png    0\n",
      "../data/raw/Image_datasets/partner_provided_datasets/cric_cropped/Base_balanceada_dividida/2_classes/Treino/4976_1_.png    1\n",
      "../data/raw/Image_datasets/partner_provided_datasets/cric_cropped/Base_balanceada_dividida/2_classes/Treino/2382_0_.png    0\n",
      "../data/raw/Image_datasets/partner_provided_datasets/cric_cropped/Base_balanceada_dividida/2_classes/Treino/5427_1_.png    1\n",
      "../data/raw/Image_datasets/partner_provided_datasets/cric_cropped/Base_balanceada_dividida/2_classes/Treino/914_0_.png    0\n",
      "../data/raw/Image_datasets/partner_provided_datasets/mendeley_hussain_liquid_based_cytology/Negative_for_Intraepithelial_malignancy/NL_35_ (2).jpg    0\n",
      "../data/raw/Image_datasets/partner_provided_datasets/cric_cropped/Base_balanceada_dividida/2_classes/Treino/4718_1_.png    1\n",
      "../data/raw/Image_datasets/partner_provided_datasets/cric_cropped/Base_balanceada_dividida/2_classes/Treino/2980_1_.png    1\n",
      "../data/raw/Image_datasets/partner_provided_datasets/cric_cropped/Base_balanceada_dividida/2_classes/Teste/436_0_.png    0\n"
     ]
    }
   ],
   "source": [
    "#error checking\n",
    "for x in range(10):\n",
    "    print(f'{all_bin_filepaths_shuff[x]}    {all_bin_labels_shuff[x]}')"
   ]
  },
  {
   "cell_type": "markdown",
   "id": "05f256c6",
   "metadata": {},
   "source": [
    "The below function is a vectorised image loading function. It will take in a list of filepaths and instead of loading them one at a time into the tensorflow pipeline, it will process a number of images in parallel, greatly speeding up image loading and modification. "
   ]
  },
  {
   "cell_type": "code",
   "execution_count": 24,
   "id": "38a9b968",
   "metadata": {},
   "outputs": [
    {
     "name": "stdout",
     "output_type": "stream",
     "text": [
      "file names parsed\n",
      "images ds created\n",
      "label ds created\n",
      "ds out created\n"
     ]
    }
   ],
   "source": [
    "def make_processed_tf_dataset(filepaths,labels,transforms):\n",
    "    '''\n",
    "    inputs: filepath array, label array, and an Albumentations transformation pipeline (https://albumentations.ai/docs/api_reference/full_reference)\n",
    "    outputs: a tensorflow dataset containing both transformed images and binary labels\n",
    "    '''\n",
    "\n",
    "    def parse_image(filename):\n",
    "        '''\n",
    "        input: path to image\n",
    "        output: transformed/resized numpy array\n",
    "        '''\n",
    "        tf_filename = tf.io.read_file(filename) #read filename\n",
    "        image_type = tf.strings.split(filename,'.')[-1] #check image type\n",
    "        #decode image to grayscale tensor depending on imagetype \n",
    "        if image_type == \"png\":\n",
    "            image = tf.io.decode_png(tf_filename, channels=1)\n",
    "        elif image_type == \"jpg\":\n",
    "            image = tf.io.decode_jpeg(tf_filename, channels=1)\n",
    "        else:\n",
    "            print(f'unexpected image type {filename}')\n",
    "            \n",
    "        np_image = image.numpy()[:,:,0]  #convert to np array , drop channel dim as color dim not needed\n",
    "\n",
    "        if transforms == None: # if no transform is given, no image transforation is needed\n",
    "          aug_image = np_image\n",
    "        else:\n",
    "          aug_image = transforms(image=np_image)[\"image\"] #apply transforms on image\n",
    "\n",
    "        aug_image = tf.cast(aug_image, tf.float32) #convert type to match with wrapper function\n",
    "        return aug_image\n",
    "\n",
    "\n",
    "\n",
    "    #wrap parse image function as tensorflow function\n",
    "    def tf_parse_image(input):\n",
    "        y = tf.numpy_function(parse_image, [input],tf.float32) \n",
    "        return y \n",
    "    \n",
    "    #currently not batching images to be passed into model so not needed\n",
    "#   def configure_for_performance(ds): #takes tensor dataset as input and optimises for repeated calls \n",
    "#     ds = ds.shuffle(buffer_size=10000)\n",
    "#     ds = ds.batch(batch_size)\n",
    "#     ds = ds.repeat()\n",
    "#     ds = ds.prefetch(buffer_size=tf.data.experimental.AUTOTUNE)\n",
    "#     return ds\n",
    "\n",
    "  \n",
    "    filenames_ds = tf.data.Dataset.from_tensor_slices(filepaths) #make dataset of filenames\n",
    "    print('file names parsed')\n",
    "    images_ds = filenames_ds.map(lambda x: tf_parse_image(x), num_parallel_calls=tf.data.experimental.AUTOTUNE) #maps parse image function to filenames dataset to create images\n",
    "    print('images ds created')\n",
    "    labels_ds = tf.data.Dataset.from_tensor_slices(labels.astype(int)) #make ds of labels\n",
    "    print('label ds created')\n",
    "    ds_out = tf.data.Dataset.zip((images_ds, labels_ds))\n",
    "    print('ds out created')\n",
    "    return ds_out\n",
    "\n",
    "#we define basic albumentations image transform to make sure it is working correctly\n",
    "test_transform = A.Compose([\n",
    "    A.Resize(90,90)\n",
    "])\n",
    "    \n",
    "transformed_ds = make_processed_tf_dataset(all_bin_filepaths_shuff, all_bin_labels_shuff,test_transform) \n",
    "\n"
   ]
  },
  {
   "cell_type": "markdown",
   "id": "7794b3c9",
   "metadata": {},
   "source": [
    "## Error checking"
   ]
  },
  {
   "cell_type": "code",
   "execution_count": 25,
   "id": "3486efb9",
   "metadata": {
    "scrolled": false
   },
   "outputs": [
    {
     "name": "stdout",
     "output_type": "stream",
     "text": [
      "filepath from array:  ../data/raw/Image_datasets/partner_provided_datasets/cervix_93/dataset/frame050_stack/fov010.png\n",
      "label from array:  1\n",
      "label from tf  tf.Tensor(1, shape=(), dtype=int64)\n",
      "tf.Tensor([90 90], shape=(2,), dtype=int32)\n"
     ]
    },
    {
     "data": {
      "image/png": "[encoded data removed]",
      "text/plain": [
       "<Figure size 144x144 with 1 Axes>"
      ]
     },
     "metadata": {
      "needs_background": "light"
     },
     "output_type": "display_data"
    },
    {
     "name": "stdout",
     "output_type": "stream",
     "text": [
      "filepath from array:  ../data/raw/Image_datasets/partner_provided_datasets/cric_cropped/Base_balanceada_dividida/2_classes/Treino/3609_1_.png\n",
      "label from array:  1\n",
      "label from tf  tf.Tensor(1, shape=(), dtype=int64)\n",
      "tf.Tensor([90 90], shape=(2,), dtype=int32)\n"
     ]
    },
    {
     "data": {
      "image/png": "[encoded data removed]",
      "text/plain": [
       "<Figure size 144x144 with 1 Axes>"
      ]
     },
     "metadata": {
      "needs_background": "light"
     },
     "output_type": "display_data"
    },
    {
     "name": "stdout",
     "output_type": "stream",
     "text": [
      "filepath from array:  ../data/raw/Image_datasets/partner_provided_datasets/cric_cropped/Base_balanceada_dividida/2_classes/Treino/3406_1_.png\n",
      "label from array:  1\n",
      "label from tf  tf.Tensor(1, shape=(), dtype=int64)\n",
      "tf.Tensor([90 90], shape=(2,), dtype=int32)\n"
     ]
    },
    {
     "data": {
      "image/png": "[encoded data removed]",
      "text/plain": [
       "<Figure size 144x144 with 1 Axes>"
      ]
     },
     "metadata": {
      "needs_background": "light"
     },
     "output_type": "display_data"
    },
    {
     "name": "stdout",
     "output_type": "stream",
     "text": [
      "filepath from array:  ../data/raw/Image_datasets/partner_provided_datasets/cric_cropped/Base_balanceada_dividida/2_classes/Treino/627_0_.png\n",
      "label from array:  0\n",
      "label from tf  tf.Tensor(0, shape=(), dtype=int64)\n",
      "tf.Tensor([90 90], shape=(2,), dtype=int32)\n"
     ]
    },
    {
     "data": {
      "image/png": "[encoded data removed]",
      "text/plain": [
       "<Figure size 144x144 with 1 Axes>"
      ]
     },
     "metadata": {
      "needs_background": "light"
     },
     "output_type": "display_data"
    },
    {
     "name": "stdout",
     "output_type": "stream",
     "text": [
      "filepath from array:  ../data/raw/Image_datasets/partner_provided_datasets/cervix_93/dataset/frame046_stack/fov012.png\n",
      "label from array:  1\n",
      "label from tf  tf.Tensor(1, shape=(), dtype=int64)\n",
      "tf.Tensor([90 90], shape=(2,), dtype=int32)\n"
     ]
    },
    {
     "data": {
      "image/png": "[encoded data removed]",
      "text/plain": [
       "<Figure size 144x144 with 1 Axes>"
      ]
     },
     "metadata": {
      "needs_background": "light"
     },
     "output_type": "display_data"
    },
    {
     "name": "stdout",
     "output_type": "stream",
     "text": [
      "filepath from array:  ../data/raw/Image_datasets/partner_provided_datasets/cric_cropped/Base_balanceada_dividida/2_classes/Treino/3165_1_.png\n",
      "label from array:  1\n",
      "label from tf  tf.Tensor(1, shape=(), dtype=int64)\n",
      "tf.Tensor([90 90], shape=(2,), dtype=int32)\n"
     ]
    },
    {
     "data": {
      "image/png": "[encoded data removed]",
      "text/plain": [
       "<Figure size 144x144 with 1 Axes>"
      ]
     },
     "metadata": {
      "needs_background": "light"
     },
     "output_type": "display_data"
    },
    {
     "name": "stdout",
     "output_type": "stream",
     "text": [
      "filepath from array:  ../data/raw/Image_datasets/partner_provided_datasets/CRIC_FullSlide_dataset/LSIL_184.png\n",
      "label from array:  1\n",
      "label from tf  tf.Tensor(1, shape=(), dtype=int64)\n",
      "tf.Tensor([90 90], shape=(2,), dtype=int32)\n"
     ]
    },
    {
     "data": {
      "image/png": "[encoded data removed]",
      "text/plain": [
       "<Figure size 144x144 with 1 Axes>"
      ]
     },
     "metadata": {
      "needs_background": "light"
     },
     "output_type": "display_data"
    },
    {
     "name": "stdout",
     "output_type": "stream",
     "text": [
      "filepath from array:  ../data/raw/Image_datasets/partner_provided_datasets/cric_cropped/Base_balanceada_dividida/2_classes/Treino/1118_0_.png\n",
      "label from array:  0\n",
      "label from tf  tf.Tensor(0, shape=(), dtype=int64)\n",
      "tf.Tensor([90 90], shape=(2,), dtype=int32)\n"
     ]
    },
    {
     "data": {
      "image/png": "[encoded data removed]",
      "text/plain": [
       "<Figure size 144x144 with 1 Axes>"
      ]
     },
     "metadata": {
      "needs_background": "light"
     },
     "output_type": "display_data"
    },
    {
     "name": "stdout",
     "output_type": "stream",
     "text": [
      "filepath from array:  ../data/raw/Image_datasets/partner_provided_datasets/CRIC_FullSlide_dataset/NILM_152.png\n",
      "label from array:  0\n",
      "label from tf  tf.Tensor(0, shape=(), dtype=int64)\n",
      "tf.Tensor([90 90], shape=(2,), dtype=int32)\n"
     ]
    },
    {
     "data": {
      "image/png": "[encoded data removed]",
      "text/plain": [
       "<Figure size 144x144 with 1 Axes>"
      ]
     },
     "metadata": {
      "needs_background": "light"
     },
     "output_type": "display_data"
    },
    {
     "name": "stdout",
     "output_type": "stream",
     "text": [
      "filepath from array:  ../data/raw/Image_datasets/partner_provided_datasets/cervix_93/dataset/frame072_stack/fov008.png\n",
      "label from array:  1\n",
      "label from tf  tf.Tensor(1, shape=(), dtype=int64)\n",
      "tf.Tensor([90 90], shape=(2,), dtype=int32)\n"
     ]
    },
    {
     "data": {
      "image/png": "[encoded data removed]",
      "text/plain": [
       "<Figure size 144x144 with 1 Axes>"
      ]
     },
     "metadata": {
      "needs_background": "light"
     },
     "output_type": "display_data"
    }
   ],
   "source": [
    "x = 0\n",
    "for images,labels in transformed_ds.take(10):\n",
    "  print('filepath from array: ',all_bin_filepaths_shuff[x]) \n",
    "  print('label from array: ',all_bin_labels_shuff[x])\n",
    "  print('label from tf ',labels)\n",
    "  print(tf.shape(images))\n",
    "  # print(images)\n",
    "  # img = mpimg.imread(images)\n",
    "  #new_image = images[:,:].map(contrast)\n",
    "  plt.rcParams[\"figure.figsize\"] = (2,2)\n",
    "  plt.imshow(images[:,:],cmap='gray', vmin=0, vmax=255)\n",
    "  plt.show()\n",
    "  x +=1"
   ]
  },
  {
   "cell_type": "markdown",
   "id": "96b3d5f3",
   "metadata": {},
   "source": [
    "## Save modified images"
   ]
  },
  {
   "cell_type": "code",
   "execution_count": 15,
   "id": "4372e291",
   "metadata": {},
   "outputs": [
    {
     "ename": "FileExistsError",
     "evalue": "[Errno 17] File exists: '/home/leon/Documents/github/cerv_ai/data/processed/testing/train/0'",
     "output_type": "error",
     "traceback": [
      "\u001b[0;31m---------------------------------------------------------------------------\u001b[0m",
      "\u001b[0;31mFileExistsError\u001b[0m                           Traceback (most recent call last)",
      "\u001b[0;32m/tmp/ipykernel_12164/2590218993.py\u001b[0m in \u001b[0;36m<module>\u001b[0;34m\u001b[0m\n\u001b[1;32m     11\u001b[0m \u001b[0;32mfor\u001b[0m \u001b[0mfolder\u001b[0m \u001b[0;32min\u001b[0m \u001b[0mtrain_split_folders\u001b[0m\u001b[0;34m:\u001b[0m\u001b[0;34m\u001b[0m\u001b[0;34m\u001b[0m\u001b[0m\n\u001b[1;32m     12\u001b[0m     \u001b[0;32mfor\u001b[0m \u001b[0mlabel\u001b[0m \u001b[0;32min\u001b[0m \u001b[0mnp\u001b[0m\u001b[0;34m.\u001b[0m\u001b[0munique\u001b[0m\u001b[0;34m(\u001b[0m\u001b[0mall_bin_labels_shuff\u001b[0m\u001b[0;34m)\u001b[0m\u001b[0;34m:\u001b[0m\u001b[0;34m\u001b[0m\u001b[0;34m\u001b[0m\u001b[0m\n\u001b[0;32m---> 13\u001b[0;31m         \u001b[0mos\u001b[0m\u001b[0;34m.\u001b[0m\u001b[0mmakedirs\u001b[0m\u001b[0;34m(\u001b[0m\u001b[0mos\u001b[0m\u001b[0;34m.\u001b[0m\u001b[0mpath\u001b[0m\u001b[0;34m.\u001b[0m\u001b[0mjoin\u001b[0m\u001b[0;34m(\u001b[0m\u001b[0mto_save_dir\u001b[0m\u001b[0;34m,\u001b[0m\u001b[0mfolder\u001b[0m\u001b[0;34m,\u001b[0m\u001b[0mstr\u001b[0m\u001b[0;34m(\u001b[0m\u001b[0mlabel\u001b[0m\u001b[0;34m)\u001b[0m\u001b[0;34m)\u001b[0m\u001b[0;34m)\u001b[0m\u001b[0;34m\u001b[0m\u001b[0;34m\u001b[0m\u001b[0m\n\u001b[0m\u001b[1;32m     14\u001b[0m \u001b[0;34m\u001b[0m\u001b[0m\n\u001b[1;32m     15\u001b[0m \u001b[0;34m\u001b[0m\u001b[0m\n",
      "\u001b[0;32m~/.conda/envs/pytorch2/lib/python3.7/os.py\u001b[0m in \u001b[0;36mmakedirs\u001b[0;34m(name, mode, exist_ok)\u001b[0m\n\u001b[1;32m    219\u001b[0m             \u001b[0;32mreturn\u001b[0m\u001b[0;34m\u001b[0m\u001b[0;34m\u001b[0m\u001b[0m\n\u001b[1;32m    220\u001b[0m     \u001b[0;32mtry\u001b[0m\u001b[0;34m:\u001b[0m\u001b[0;34m\u001b[0m\u001b[0;34m\u001b[0m\u001b[0m\n\u001b[0;32m--> 221\u001b[0;31m         \u001b[0mmkdir\u001b[0m\u001b[0;34m(\u001b[0m\u001b[0mname\u001b[0m\u001b[0;34m,\u001b[0m \u001b[0mmode\u001b[0m\u001b[0;34m)\u001b[0m\u001b[0;34m\u001b[0m\u001b[0;34m\u001b[0m\u001b[0m\n\u001b[0m\u001b[1;32m    222\u001b[0m     \u001b[0;32mexcept\u001b[0m \u001b[0mOSError\u001b[0m\u001b[0;34m:\u001b[0m\u001b[0;34m\u001b[0m\u001b[0;34m\u001b[0m\u001b[0m\n\u001b[1;32m    223\u001b[0m         \u001b[0;31m# Cannot rely on checking for EEXIST, since the operating system\u001b[0m\u001b[0;34m\u001b[0m\u001b[0;34m\u001b[0m\u001b[0;34m\u001b[0m\u001b[0m\n",
      "\u001b[0;31mFileExistsError\u001b[0m: [Errno 17] File exists: '/home/leon/Documents/github/cerv_ai/data/processed/testing/train/0'"
     ]
    }
   ],
   "source": [
    "\n",
    "to_save_dir = os.path.join(os.getcwd(),'processed/testing') #create new folder\n",
    "train_split_folders = ['train','valid','test']\n",
    "\n",
    "#create train/valid/test split folders along with label sub folder\n",
    "\n",
    "#create folders if needed\n",
    "for folder in train_split_folders:\n",
    "    for label in np.unique(all_bin_labels_shuff):\n",
    "        os.makedirs(os.path.join(to_save_dir,folder,str(label)))\n",
    "    \n",
    "\n"
   ]
  },
  {
   "cell_type": "code",
   "execution_count": 26,
   "id": "73c0ea84",
   "metadata": {
    "scrolled": false
   },
   "outputs": [
    {
     "name": "stdout",
     "output_type": "stream",
     "text": [
      "1  images saved\n",
      "101  images saved\n",
      "201  images saved\n",
      "301  images saved\n",
      "401  images saved\n",
      "501  images saved\n",
      "601  images saved\n",
      "701  images saved\n",
      "801  images saved\n",
      "901  images saved\n",
      "1001  images saved\n",
      "1101  images saved\n",
      "1201  images saved\n",
      "1301  images saved\n",
      "1401  images saved\n",
      "1501  images saved\n",
      "1601  images saved\n",
      "1701  images saved\n",
      "1801  images saved\n",
      "1901  images saved\n",
      "2001  images saved\n",
      "2101  images saved\n",
      "2201  images saved\n",
      "2301  images saved\n",
      "2401  images saved\n",
      "2501  images saved\n",
      "2601  images saved\n",
      "2701  images saved\n",
      "2801  images saved\n",
      "2901  images saved\n",
      "3001  images saved\n",
      "3101  images saved\n",
      "3201  images saved\n",
      "3301  images saved\n",
      "3401  images saved\n",
      "3501  images saved\n",
      "3601  images saved\n",
      "3701  images saved\n",
      "3801  images saved\n",
      "3901  images saved\n",
      "4001  images saved\n",
      "4101  images saved\n",
      "4201  images saved\n",
      "4301  images saved\n",
      "4401  images saved\n",
      "4501  images saved\n",
      "4601  images saved\n",
      "4701  images saved\n",
      "4801  images saved\n",
      "4901  images saved\n",
      "5001  images saved\n",
      "5101  images saved\n",
      "5201  images saved\n",
      "5301  images saved\n",
      "5401  images saved\n",
      "5501  images saved\n",
      "5601  images saved\n",
      "5701  images saved\n",
      "5801  images saved\n",
      "5901  images saved\n",
      "6001  images saved\n",
      "6101  images saved\n",
      "6201  images saved\n",
      "6301  images saved\n",
      "6401  images saved\n",
      "6501  images saved\n",
      "6601  images saved\n",
      "6701  images saved\n",
      "6801  images saved\n",
      "6901  images saved\n",
      "7001  images saved\n",
      "7101  images saved\n",
      "7201  images saved\n",
      "7301  images saved\n",
      "7401  images saved\n",
      "7501  images saved\n",
      "7601  images saved\n",
      "7701  images saved\n",
      "7801  images saved\n",
      "7901  images saved\n",
      "8001  images saved\n",
      "8101  images saved\n",
      "8201  images saved\n",
      "8301  images saved\n",
      "8401  images saved\n",
      "8501  images saved\n",
      "8601  images saved\n",
      "8701  images saved\n",
      "8801  images saved\n",
      "8901  images saved\n",
      "9001  images saved\n",
      "9101  images saved\n",
      "9201  images saved\n",
      "9301  images saved\n",
      "9401  images saved\n",
      "9501  images saved\n",
      "9601  images saved\n",
      "9701  images saved\n",
      "9801  images saved\n",
      "9901  images saved\n",
      "10001  images saved\n",
      "10101  images saved\n",
      "10201  images saved\n",
      "10301  images saved\n",
      "10401  images saved\n",
      "10501  images saved\n",
      "all images saved\n"
     ]
    }
   ],
   "source": [
    "#it seems likely that there is a bottle neck in the image saving process in this cell\n",
    "#possbily this can be parallelised somehow or made more efficient\n",
    "\n",
    "x = 0\n",
    "for images,labels in transformed_ds.take(-1): #get all images\n",
    "    #choose which train/valid/test folder to place image in:\n",
    "    folder = np.random.choice(train_split_folders,p=[0.8,0.1,0.1])\n",
    "    \n",
    "    #get image label/class\n",
    "    np_label = labels.numpy()\n",
    "\n",
    "    #convert image to array\n",
    "    temp_image = images.numpy()\n",
    "\n",
    "    #keep original filename\n",
    "    file_path = all_bin_filepaths_shuff[x]\n",
    "    filename = file_path.split('/')[-1] #get last section of filepath which is filename\n",
    "    filename = filename.split('.')[-2] #drop .jpeg or .png\n",
    "\n",
    "    #save image based on train/valid/test and 0 or 1 label\n",
    "    if np_label == 1:\n",
    "        path_to_save = os.path.join(to_save_dir,folder,'1',filename)+'.png' #create path and filename\n",
    "    elif np_label == 0:\n",
    "        path_to_save = os.path.join(to_save_dir,folder,'0',filename)+'.png'\n",
    "    \n",
    "    #save the image to the relevant folder (possible TODO , can be optimised)\n",
    "    cv2.imwrite(path_to_save,temp_image) \n",
    "\n",
    "    if x % 100 == 1: #progress bar\n",
    "        print(x,' images saved')\n",
    "    else:\n",
    "        pass\n",
    "\n",
    "    x+=1 \n",
    "\n",
    "print('all images saved')"
   ]
  },
  {
   "cell_type": "code",
   "execution_count": null,
   "id": "33bae5cd",
   "metadata": {},
   "outputs": [],
   "source": [
    "to_save_dir"
   ]
  },
  {
   "cell_type": "code",
   "execution_count": null,
   "id": "f1645fd1",
   "metadata": {},
   "outputs": [],
   "source": []
  }
 ],
 "metadata": {
  "kernelspec": {
   "display_name": "pytorch",
   "language": "python",
   "name": "pytorch2"
  },
  "language_info": {
   "codemirror_mode": {
    "name": "ipython",
    "version": 3
   },
   "file_extension": ".py",
   "mimetype": "text/x-python",
   "name": "python",
   "nbconvert_exporter": "python",
   "pygments_lexer": "ipython3",
   "version": "3.7.3"
  }
 },
 "nbformat": 4,
 "nbformat_minor": 5
}
