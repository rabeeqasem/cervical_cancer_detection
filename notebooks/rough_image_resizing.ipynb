{
 "cells": [
  {
   "cell_type": "markdown",
   "id": "452e1e2f",
   "metadata": {},
   "source": [
    "This notebook can be used to resize a folder of images by using the imagemagick command line tool https://imagemagick.org/index.php "
   ]
  },
  {
   "cell_type": "code",
   "execution_count": 25,
   "id": "d65e2c02",
   "metadata": {},
   "outputs": [],
   "source": [
    "import os\n",
    "# !pip install imagesize\n",
    "import imagesize\n",
    "from PIL import Image"
   ]
  },
  {
   "cell_type": "code",
   "execution_count": 6,
   "id": "482ca01d",
   "metadata": {},
   "outputs": [
    {
     "name": "stdout",
     "output_type": "stream",
     "text": [
      "/home/leon/Documents/github/cerv_ai\n"
     ]
    }
   ],
   "source": [
    "nb_folder = os.getcwd() #find current working directory\n",
    "repo_dir = os.path.dirname(nb_folder) #set the local filepath to the local dagshub repo"
   ]
  },
  {
   "cell_type": "code",
   "execution_count": 41,
   "id": "05278529",
   "metadata": {},
   "outputs": [],
   "source": [
    "#set input and output image folders\n",
    "cdetect_train_folder = os.path.join(repo_dir,'data/raw/Image_datasets/partner_provided_datasets/Cdetector/train/train')\n",
    "down_sized_folder = os.path.join(repo_dir,'data/raw/Image_datasets/partner_provided_datasets/Cdetector/train_downsized')\n",
    "#set read write permissions for folders\n",
    "os.chmod(cdetect_train_folder, 0o777)\n",
    "os.chmod(down_sized_folder, 0o777)\n",
    "os.chmod(nb_folder,0o777)"
   ]
  },
  {
   "cell_type": "code",
   "execution_count": 8,
   "id": "7d1bae3d",
   "metadata": {},
   "outputs": [],
   "source": [
    "#change working directory\n",
    "os.chdir(cdetect_train_folder)"
   ]
  },
  {
   "cell_type": "code",
   "execution_count": 46,
   "id": "afa550c2",
   "metadata": {},
   "outputs": [
    {
     "name": "stdout",
     "output_type": "stream",
     "text": [
      "0  files processed\n",
      "100  files processed\n",
      "200  files processed\n",
      "300  files processed\n",
      "400  files processed\n",
      "500  files processed\n",
      "600  files processed\n",
      "700  files processed\n",
      "800  files processed\n",
      "900  files processed\n",
      "1000  files processed\n",
      "1100  files processed\n",
      "1200  files processed\n",
      "1300  files processed\n",
      "1400  files processed\n",
      "1500  files processed\n",
      "1600  files processed\n",
      "1700  files processed\n",
      "1800  files processed\n",
      "1900  files processed\n",
      "2000  files processed\n",
      "2100  files processed\n",
      "2200  files processed\n",
      "2300  files processed\n",
      "2400  files processed\n",
      "2500  files processed\n",
      "2600  files processed\n",
      "2700  files processed\n",
      "2800  files processed\n",
      "2900  files processed\n",
      "3000  files processed\n",
      "3100  files processed\n",
      "3200  files processed\n",
      "3300  files processed\n",
      "3400  files processed\n",
      "3500  files processed\n",
      "3600  files processed\n",
      "3700  files processed\n",
      "3800  files processed\n",
      "3900  files processed\n",
      "4000  files processed\n",
      "4100  files processed\n",
      "4200  files processed\n",
      "4300  files processed\n",
      "4400  files processed\n",
      "4500  files processed\n",
      "4600  files processed\n",
      "4700  files processed\n",
      "4800  files processed\n",
      "4900  files processed\n",
      "5000  files processed\n",
      "5100  files processed\n",
      "5200  files processed\n",
      "5300  files processed\n",
      "5400  files processed\n",
      "5500  files processed\n",
      "5600  files processed\n",
      "5700  files processed\n",
      "5800  files processed\n",
      "5900  files processed\n",
      "6000  files processed\n",
      "6100  files processed\n",
      "6200  files processed\n",
      "6300  files processed\n",
      "6400  files processed\n",
      "6500  files processed\n",
      "6600  files processed\n",
      "all files resized\n"
     ]
    }
   ],
   "source": [
    "file_paths = []\n",
    "image_sizes = []\n",
    "image_memory = []\n",
    "x = 0\n",
    "#loop through files in folder\n",
    "for file in os.listdir(cdetect_train_folder):\n",
    "    #make input and output filepaths\n",
    "    temp_input_filepath = os.path.join(cdetect_train_folder,file)\n",
    "    temp_output_filepath = os.path.join(down_sized_folder,file)\n",
    "    \n",
    "    #get image_dims\n",
    "    with Image.open(temp_input_filepath) as im:\n",
    "         temp_image_dims = [im.size[0],im.size[1],len(im.getbands())]\n",
    "#     print(temp_image_dims)\n",
    "    image_sizes.append(temp_image_dims)\n",
    "#     print(temp_image_dims)\n",
    "    \n",
    "    #find image memory size of image in bytes\n",
    "    temp_image_size = os.path.getsize(temp_input_filepath)\n",
    "    image_memory.append(temp_image_size)\n",
    "#     print(temp_image_size)\n",
    "    \n",
    "    #create the command to be entered into the terminal\n",
    "    term_command = f'magick {temp_input_filepath} -resize 50% {temp_output_filepath}'\n",
    "#     print(term_command)\n",
    "    os.system(term_command) #enter and run bove string in terminal\n",
    "    if x % 100 == 0:\n",
    "        print(x, ' files processed')\n",
    "    x +=1\n",
    "    \n",
    "print('all files resized')\n",
    "    "
   ]
  },
  {
   "cell_type": "code",
   "execution_count": 61,
   "id": "b2da0b0f",
   "metadata": {},
   "outputs": [
    {
     "name": "stdout",
     "output_type": "stream",
     "text": [
      "mkdir: cannot create directory ‘/home/leon/Documents/github/cerv_ai/data/raw/Image_datasets/partner_provided_datasets/Cdetector/train_downsized’: File exists\r\n"
     ]
    }
   ],
   "source": [
    "#make new folder if needed\n",
    "!mkdir /home/leon/Documents/github/cerv_ai/data/raw/Image_datasets/partner_provided_datasets/Cdetector/train_downsized"
   ]
  },
  {
   "cell_type": "code",
   "execution_count": 59,
   "id": "350d31a1",
   "metadata": {},
   "outputs": [],
   "source": [
    "#save image memory sizes as csv\n",
    "with open(os.path.join(down_sized_folder,'original_images_memory_size_bytes.csv'),'w') as f:\n",
    "    for x in image_memory:\n",
    "        f.write(str(x))"
   ]
  },
  {
   "cell_type": "code",
   "execution_count": 60,
   "id": "0a8087a0",
   "metadata": {},
   "outputs": [],
   "source": [
    "#save image dims as csv\n",
    "with open(os.path.join(down_sized_folder,'original_images_images_dims.csv'),'w') as f:\n",
    "    for x in image_sizes:\n",
    "        f.write(str(x))"
   ]
  },
  {
   "cell_type": "code",
   "execution_count": null,
   "id": "9cce03dc",
   "metadata": {},
   "outputs": [],
   "source": []
  }
 ],
 "metadata": {
  "kernelspec": {
   "display_name": "base",
   "language": "python",
   "name": "base"
  },
  "language_info": {
   "codemirror_mode": {
    "name": "ipython",
    "version": 3
   },
   "file_extension": ".py",
   "mimetype": "text/x-python",
   "name": "python",
   "nbconvert_exporter": "python",
   "pygments_lexer": "ipython3",
   "version": "3.9.7"
  }
 },
 "nbformat": 4,
 "nbformat_minor": 5
}
